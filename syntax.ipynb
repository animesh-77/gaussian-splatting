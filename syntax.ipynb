{
 "cells": [
  {
   "cell_type": "code",
   "execution_count": 1,
   "metadata": {},
   "outputs": [],
   "source": [
    "class GroupParams():\n",
    "    pass"
   ]
  },
  {
   "cell_type": "code",
   "execution_count": 2,
   "metadata": {},
   "outputs": [
    {
     "name": "stdout",
     "output_type": "stream",
     "text": [
      "('no_gpu', False) <class 'tuple'>\n",
      "('skip_matching', False) <class 'tuple'>\n",
      "('source_path', '/path/to/source') <class 'tuple'>\n",
      "('camera', 'DSLR') <class 'tuple'>\n",
      "('colmap_executable', '') <class 'tuple'>\n",
      "('resize', True) <class 'tuple'>\n",
      "('magick_executable', '') <class 'tuple'>\n",
      "('model_path', '') <class 'tuple'>\n"
     ]
    }
   ],
   "source": [
    "import sys\n",
    "from argparse import ArgumentParser\n",
    "\n",
    "# Create the parser\n",
    "parser = ArgumentParser(description=\"Example Argument Parser\")\n",
    "\n",
    "# Add arguments\n",
    "parser.add_argument(\"--no_gpu\", action='store_true')\n",
    "parser.add_argument(\"--skip_matching\", action='store_true')\n",
    "parser.add_argument(\"--source_path\", \"-s\", required=True, type=str)\n",
    "parser.add_argument(\"--camera\", default=\"OPENCV\", type=str)\n",
    "parser.add_argument(\"--colmap_executable\", default=\"\", type=str)\n",
    "parser.add_argument(\"--resize\", action=\"store_true\")\n",
    "parser.add_argument(\"--magick_executable\", default=\"\", type=str)\n",
    "parser.add_argument(\"--model_path\", default=\"\", type=str)\n",
    "\n",
    "# Simulate command line input\n",
    "sys.argv = ['script_name.py', '--source_path', '/path/to/source', '--camera', 'DSLR', '--resize']\n",
    "\n",
    "# Parse arguments\n",
    "args = parser.parse_args(sys.argv[1:])\n",
    "# args= parser.parse_args()\n",
    "\n",
    "# Print the type of args\n",
    "# print(type(args))\n",
    "# print(args)\n",
    "for arg in vars(args).items():\n",
    "    print(arg, type(arg))"
   ]
  },
  {
   "cell_type": "code",
   "execution_count": 3,
   "metadata": {},
   "outputs": [
    {
     "name": "stdout",
     "output_type": "stream",
     "text": [
      "dict_items([('no_gpu', False), ('skip_matching', False), ('source_path', '/path/to/source'), ('camera', 'DSLR'), ('colmap_executable', ''), ('resize', True), ('magick_executable', ''), ('model_path', '')])\n"
     ]
    }
   ],
   "source": [
    "print(vars(args).items())"
   ]
  },
  {
   "cell_type": "code",
   "execution_count": 4,
   "metadata": {},
   "outputs": [
    {
     "name": "stdout",
     "output_type": "stream",
     "text": [
      "3b0a7715-a917-4c77-93e7-001cac67685e\n"
     ]
    }
   ],
   "source": [
    "import os\n",
    "import uuid\n",
    "\n",
    "\n",
    "if os.getenv('OAR_JOB_ID'):\n",
    "    unique_str=os.getenv('OAR_JOB_ID')\n",
    "else:\n",
    "    unique_str = str(uuid.uuid4())\n",
    "print(unique_str)"
   ]
  },
  {
   "cell_type": "markdown",
   "metadata": {},
   "source": [
    "# tensorboard"
   ]
  },
  {
   "cell_type": "code",
   "execution_count": 10,
   "metadata": {},
   "outputs": [],
   "source": [
    "import torch\n",
    "from torch.utils.tensorboard import SummaryWriter\n",
    "writer = SummaryWriter()\n"
   ]
  },
  {
   "cell_type": "code",
   "execution_count": 11,
   "metadata": {},
   "outputs": [],
   "source": [
    "x = torch.arange(-5, 5, 0.1).view(-1, 1)\n",
    "y = -5 * x + 0.1 * torch.randn(x.size())\n",
    "\n",
    "model = torch.nn.Linear(1, 1)\n",
    "criterion = torch.nn.MSELoss()\n",
    "optimizer = torch.optim.SGD(model.parameters(), lr = 0.1)\n",
    "\n",
    "def train_model(iter):\n",
    "    for epoch in range(iter):\n",
    "        y1 = model(x)\n",
    "        loss = criterion(y1, y)\n",
    "        writer.add_scalar(\"Loss/train\", loss, epoch)\n",
    "        optimizer.zero_grad()\n",
    "        loss.backward()\n",
    "        optimizer.step()\n",
    "\n",
    "train_model(10)\n",
    "writer.flush()\n"
   ]
  },
  {
   "cell_type": "markdown",
   "metadata": {},
   "source": [
    "# CUDA\n",
    "\n",
    "## cuda.Event()"
   ]
  },
  {
   "cell_type": "code",
   "execution_count": 16,
   "metadata": {},
   "outputs": [
    {
     "name": "stdout",
     "output_type": "stream",
     "text": [
      "Time elapsed for matrix multiplication: 71.57247924804688 ms\n"
     ]
    }
   ],
   "source": [
    "import torch\n",
    "\n",
    "# Create CUDA events\n",
    "iter_start = torch.cuda.Event(enable_timing=True)\n",
    "iter_end = torch.cuda.Event(enable_timing=True)\n",
    "\n",
    "# Example tensor operations\n",
    "a = torch.randn((10_000, 10_000), device='cuda')\n",
    "b = torch.randn((10_000, 10_000), device='cuda')\n",
    "\n",
    "# Record the start event\n",
    "iter_start.record()\n",
    "\n",
    "# Perform some operations\n",
    "c = torch.matmul(a, b)\n",
    "\n",
    "# Record the end event\n",
    "iter_end.record()\n",
    "\n",
    "# Wait for the events to complete\n",
    "torch.cuda.synchronize()\n",
    "\n",
    "# Calculate the elapsed time\n",
    "elapsed_time = iter_start.elapsed_time(iter_end)  # Time in milliseconds\n",
    "print(f'Time elapsed for matrix multiplication: {elapsed_time} ms')\n"
   ]
  },
  {
   "cell_type": "markdown",
   "metadata": {},
   "source": [
    "# Custom tqdm progress bar"
   ]
  },
  {
   "cell_type": "code",
   "execution_count": 36,
   "metadata": {},
   "outputs": [
    {
     "name": "stderr",
     "output_type": "stream",
     "text": [
      "Training progress: 100%|██████████| 10000/10000 [00:08<00:00, 1245.61it/s, loss5]\n"
     ]
    }
   ],
   "source": [
    "from tqdm import tqdm\n",
    "import time, random\n",
    "first_iter = 0\n",
    "last_iter = 10_000\n",
    "progress_bar = tqdm(range(first_iter, last_iter), desc=\"Training progress\")\n",
    "\n",
    "for i in range(10_000):\n",
    "    time.sleep(0.0005)\n",
    "    if i%10 ==0:\n",
    "        progress_bar.set_postfix_str(\"loss\"+str( random.randint(0,10)))\n",
    "        progress_bar.update(10)\n",
    "progress_bar.close()"
   ]
  },
  {
   "cell_type": "markdown",
   "metadata": {},
   "source": [
    "# Namedtuple"
   ]
  },
  {
   "cell_type": "code",
   "execution_count": 46,
   "metadata": {},
   "outputs": [
    {
     "name": "stdout",
     "output_type": "stream",
     "text": [
      "Point2D\n",
      "10 20\n",
      "10 20\n",
      "True True\n"
     ]
    }
   ],
   "source": [
    "from collections import namedtuple\n",
    "\n",
    "Point = namedtuple('Point2D', ['x', 'y'])\n",
    "p = Point(x=10, y=20)\n",
    "print(type(p).__name__)\n",
    "print(p.x, p.y) \n",
    "print(p[0], p[1]) \n",
    "print(p[0]==p.x, p[1]==p.y)  \n"
   ]
  },
  {
   "cell_type": "code",
   "execution_count": 55,
   "metadata": {},
   "outputs": [
    {
     "name": "stdout",
     "output_type": "stream",
     "text": [
      "['2', 'PINHOLE', '3072', '2304', '2560.56', '2560.56', '1536', '1152']\n",
      "2 <class 'str'>\n",
      "PINHOLE <class 'str'>\n",
      "3072 <class 'str'>\n",
      "2304 <class 'str'>\n",
      "2560.56 <class 'str'>\n",
      "2560.56 <class 'str'>\n",
      "1536 <class 'str'>\n",
      "1152 <class 'str'>\n",
      "[2560.56 2560.56 1536.   1152.  ] <class 'numpy.ndarray'>\n"
     ]
    }
   ],
   "source": [
    "elems= \"2 PINHOLE 3072 2304 2560.56 2560.56 1536 1152\".split()\n",
    "print(elems)\n",
    "import numpy as np\n",
    "for i in elems:\n",
    "    print(i, type(i))   \n",
    "params = np.array(tuple(map(float, elems[4:])))\n",
    "print(params, type(params))\n",
    "print(list(map(float, elems[4:])))"
   ]
  },
  {
   "cell_type": "code",
   "execution_count": 70,
   "metadata": {},
   "outputs": [
    {
     "name": "stdout",
     "output_type": "stream",
     "text": [
      "IMG_2349.JPG\n"
     ]
    }
   ],
   "source": [
    "import os\n",
    "img_path= \"/cs/student/projects4/ml/2023/asrivast/gaussian-splatting/output/gerrard-hall-smallest/images/IMG_2349.JPG\"\n",
    "print(os.path.basename(img_path))"
   ]
  }
 ],
 "metadata": {
  "kernelspec": {
   "display_name": "comp0197-pt",
   "language": "python",
   "name": "python3"
  },
  "language_info": {
   "codemirror_mode": {
    "name": "ipython",
    "version": 3
   },
   "file_extension": ".py",
   "mimetype": "text/x-python",
   "name": "python",
   "nbconvert_exporter": "python",
   "pygments_lexer": "ipython3",
   "version": "3.8.19"
  }
 },
 "nbformat": 4,
 "nbformat_minor": 2
}
