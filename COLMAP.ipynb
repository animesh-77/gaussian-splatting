{
 "cells": [
  {
   "cell_type": "markdown",
   "metadata": {},
   "source": [
    "# SIFT features"
   ]
  },
  {
   "cell_type": "code",
   "execution_count": 1,
   "metadata": {},
   "outputs": [
    {
     "name": "stdout",
     "output_type": "stream",
     "text": [
      "<class 'numpy.ndarray'>\n",
      "Number of keypoints Detected:  7364\n"
     ]
    },
    {
     "data": {
      "text/plain": [
       "True"
      ]
     },
     "execution_count": 1,
     "metadata": {},
     "output_type": "execute_result"
    },
    {
     "ename": "",
     "evalue": "",
     "output_type": "error",
     "traceback": [
      "\u001b[1;31mThe Kernel crashed while executing code in the current cell or a previous cell. \n",
      "\u001b[1;31mPlease review the code in the cell(s) to identify a possible cause of the failure. \n",
      "\u001b[1;31mClick <a href='https://aka.ms/vscodeJupyterKernelCrash'>here</a> for more info. \n",
      "\u001b[1;31mView Jupyter <a href='command:jupyter.viewOutput'>log</a> for further details."
     ]
    }
   ],
   "source": [
    "import numpy as np\n",
    "import cv2 as cv\n",
    "\n",
    "img = cv.imread(r\"C:\\Users\\student1\\Desktop\\Datasets\\dress3_16_smaller\\aim_15\\input\\marie_PL-EB5_dress3_16.JPG\")\n",
    "print(type(img))\n",
    "gray= cv.cvtColor(img,cv.COLOR_BGR2GRAY)\n",
    " \n",
    "sift = cv.SIFT_create()\n",
    "kp = sift.detect(gray,None)\n",
    " \n",
    "# print total number of keypoints detected\n",
    "print(\"Number of keypoints Detected: \", len(kp))\n",
    "img=cv.drawKeypoints(gray,kp,img)\n",
    "cv.imshow('sift_keypoints.jpg',img)\n",
    " \n",
    "cv.imwrite('sift_keypoints.jpg',img)"
   ]
  },
  {
   "cell_type": "markdown",
   "metadata": {},
   "source": [
    "# Read databse after sparse reconstruction\n",
    "\n",
    "https://colmap.github.io/database.html\n",
    "\n",
    "The database contains the following tables:\n",
    "\n",
    "* cameras\n",
    "* images\n",
    "* keypoints\n",
    "* descriptors\n",
    "* matches\n",
    "* two_view_geometries\n",
    "\n",
    "\n",
    "# ! ! Better to use SQLite instead"
   ]
  },
  {
   "cell_type": "code",
   "execution_count": 1,
   "metadata": {},
   "outputs": [],
   "source": [
    "import sqlite3"
   ]
  },
  {
   "cell_type": "code",
   "execution_count": 20,
   "metadata": {},
   "outputs": [
    {
     "name": "stdout",
     "output_type": "stream",
     "text": [
      "Database exists\n"
     ]
    }
   ],
   "source": [
    "import colmap.scripts.python.database as coldb\n",
    "\n",
    "import os\n",
    "import argparse\n",
    "import numpy as np\n",
    "\n",
    "parser = argparse.ArgumentParser()\n",
    "parser.add_argument(\"--database_path\", default=\"gerrard-hall-smaller/database.db\")\n",
    "args = parser.parse_args(args=[])\n",
    "\n",
    "if os.path.exists(args.database_path):\n",
    "    print(\"Database exists\")\n",
    "    # return\n",
    "\n",
    "# Open the database.\n",
    "\n",
    "conn = coldb.COLMAPDatabase.connect(args.database_path)\n",
    "\n",
    "# Create a cursor object using the connection\n",
    "db = conn.cursor()\n",
    "# db.close()"
   ]
  },
  {
   "cell_type": "markdown",
   "metadata": {},
   "source": [
    "## Cameras"
   ]
  },
  {
   "cell_type": "code",
   "execution_count": 21,
   "metadata": {},
   "outputs": [
    {
     "name": "stdout",
     "output_type": "stream",
     "text": [
      "Camera ID 1\n",
      "Model 2\n",
      "Width 5616 Height 3744\n",
      "Params [3744. 2808. 1872.    0.]\n",
      "Prior 1\n",
      "##################################################\n"
     ]
    }
   ],
   "source": [
    "rows=db.execute(\"SELECT * FROM cameras\")\n",
    "\n",
    "for row in rows:\n",
    "    camera_id, model, width, height, params, prior = row\n",
    "    params = coldb.blob_to_array(params, np.float64)\n",
    "    print(\"Camera ID\", camera_id)\n",
    "    print(\"Model\", model)\n",
    "    print(\"Width\", width, \"Height\", height)\n",
    "    print(\"Params\", params)\n",
    "    print(\"Prior\", prior)\n",
    "    print(\"#\"*50)"
   ]
  },
  {
   "cell_type": "markdown",
   "metadata": {},
   "source": [
    "## Images"
   ]
  },
  {
   "cell_type": "code",
   "execution_count": 22,
   "metadata": {},
   "outputs": [],
   "source": [
    "conn.close()"
   ]
  },
  {
   "cell_type": "markdown",
   "metadata": {},
   "source": [
    "## pair_id_to_images\n"
   ]
  },
  {
   "cell_type": "code",
   "execution_count": 10,
   "metadata": {},
   "outputs": [
    {
     "name": "stdout",
     "output_type": "stream",
     "text": [
      "4.0 20\n"
     ]
    }
   ],
   "source": [
    "import colmap.scripts.python.database as coldb\n",
    "\n",
    "img1, img2= coldb.pair_id_to_image_ids(8589934608)\n",
    "print(img1, img2)"
   ]
  },
  {
   "cell_type": "code",
   "execution_count": 9,
   "metadata": {},
   "outputs": [
    {
     "name": "stdout",
     "output_type": "stream",
     "text": [
      "2147483647 <class 'int'>\n"
     ]
    }
   ],
   "source": [
    "MAX_IMAGE_ID = 2 ** 31 - 1\n",
    "print(MAX_IMAGE_ID, type(MAX_IMAGE_ID))"
   ]
  },
  {
   "cell_type": "markdown",
   "metadata": {},
   "source": [
    "# Read sparse reconstrunctions\n",
    "\n",
    "* Convert .bin file to .txt file"
   ]
  },
  {
   "cell_type": "code",
   "execution_count": 2,
   "metadata": {},
   "outputs": [
    {
     "name": "stdout",
     "output_type": "stream",
     "text": [
      "num_cameras: 1\n",
      "num_images: 4\n",
      "num_points3D: 1566\n"
     ]
    }
   ],
   "source": [
    "import subprocess\n",
    "import os\n",
    "\n",
    "# Define the command as a list\n",
    "cmd = [\n",
    "    \"python\",\n",
    "    \"colmap/scripts/python/read_write_model.py\",\n",
    "    \"--input_model\", \"gerrard-hall-smallest/sparse/0\",\n",
    "    \"--input_format\", \".bin\",\n",
    "    \"--output_model\", \"gerrard-hall-smallest/sparse/0\",\n",
    "    \"--output_format\", \".txt\",\n",
    "]\n",
    "while True:\n",
    "    try:\n",
    "        # Run the command\n",
    "        subprocess.run(cmd) \n",
    "        break\n",
    "    except FileNotFoundError as e:\n",
    "        print(e)\n",
    "        # use os to make directories\n"
   ]
  },
  {
   "cell_type": "markdown",
   "metadata": {},
   "source": [
    "# Reading .ply file\n",
    "and checking for invalid vertices in point cloud"
   ]
  },
  {
   "cell_type": "code",
   "execution_count": 32,
   "metadata": {},
   "outputs": [
    {
     "name": "stdout",
     "output_type": "stream",
     "text": [
      "['__class__', '__contains__', '__delattr__', '__dict__', '__dir__', '__doc__', '__eq__', '__format__', '__ge__', '__getattribute__', '__getitem__', '__getstate__', '__gt__', '__hash__', '__init__', '__init_subclass__', '__le__', '__len__', '__lt__', '__module__', '__ne__', '__new__', '__reduce__', '__reduce_ex__', '__repr__', '__setattr__', '__setitem__', '__sizeof__', '__str__', '__subclasshook__', '__weakref__', '_check_sanity', '_comments', '_count', '_data', '_get_comments', '_get_data', '_get_properties', '_have_list', '_index', '_name', '_properties', '_property_lookup', '_read', '_read_bin', '_read_mmap', '_read_txt', '_set_comments', '_set_data', '_set_properties', '_write', '_write_bin', '_write_txt', 'comments', 'count', 'data', 'describe', 'dtype', 'header', 'name', 'ply_property', 'properties']\n",
      "element vertex 41752\n",
      "property float x\n",
      "property float y\n",
      "property float z\n",
      "property uchar red\n",
      "property uchar green\n",
      "property uchar blue\n",
      "<class 'plyfile.PlyElement'>\n",
      "(41752,) [('x', '<f4'), ('y', '<f4'), ('z', '<f4'), ('red', 'u1'), ('green', 'u1'), ('blue', 'u1')]\n",
      "(PlyProperty('x', 'float'), PlyProperty('y', 'float'), PlyProperty('z', 'float'), PlyProperty('red', 'uchar'), PlyProperty('green', 'uchar'), PlyProperty('blue', 'uchar'))\n",
      "(3.4923341, -0.63936424, 0.48249197, 10, 10, 8)\n",
      "##################################################\n",
      "##################################################\n",
      "x_min -6.752591\n",
      "y_min -10.331247\n",
      "z_min -4.2099237\n",
      "x_max 36.90117\n",
      "y_max 8.542882\n",
      "z_max 31.906204\n"
     ]
    }
   ],
   "source": [
    "from plyfile import PlyData, PlyElement\n",
    "import numpy as np\n",
    "\n",
    "\n",
    "\n",
    "with open('gerrard-hall-smaller/dense/0/sparse/test_export.ply', 'rb') as f:\n",
    "    plydata = PlyData.read(f)\n",
    "\n",
    "    for ply_element in plydata.elements:\n",
    "        print(dir(ply_element))\n",
    "        print(ply_element) \n",
    "        print(type(ply_element))\n",
    "        print(ply_element.data.shape, ply_element.data.dtype,)\n",
    "        print(ply_element.properties)\n",
    "        print(ply_element.data[0])\n",
    "        print(\"#\"*50)\n",
    "\n",
    "    x_min, y_min, z_min = np.inf, np.inf, np.inf\n",
    "    x_max, y_max, z_max = -np.inf, -np.inf, -np.inf\n",
    "\n",
    "    for i in range(ply_element.count):\n",
    "        # print(ply_element.data[i], type(ply_element.data[i]), type(ply_element.data[i][0]),)\n",
    "    \n",
    "\n",
    "        # if i > 10:\n",
    "        #     break\n",
    "        # check if x y z are inf or nan\n",
    "        # if np.isinf(ply_element.data[i][0]) or np.isnan(ply_element.data[i][0]):\n",
    "        #     print(\"x is inf or nan\")\n",
    "        # if np.isinf(ply_element.data[i][1]) or np.isnan(ply_element.data[i][1]):\n",
    "        #     print(\"y is inf or nan\")\n",
    "        # if np.isinf(ply_element.data[i][2]) or np.isnan(ply_element.data[i][2]):\n",
    "        #     print(\"z is inf or nan\")\n",
    "        if ply_element.data[i][0] < x_min:\n",
    "            x_min = ply_element.data[i][0]\n",
    "        if ply_element.data[i][1] < y_min:\n",
    "            y_min = ply_element.data[i][1]\n",
    "        if ply_element.data[i][2] < z_min:\n",
    "            z_min = ply_element.data[i][2]\n",
    "\n",
    "        if ply_element.data[i][0] > x_max:\n",
    "            x_max = ply_element.data[i][0]\n",
    "        if ply_element.data[i][1] > y_max:\n",
    "            y_max = ply_element.data[i][1]\n",
    "        if ply_element.data[i][2] > z_max:\n",
    "            z_max = ply_element.data[i][2]\n",
    "    print(\"#\"*50)\n",
    "\n",
    "    print(\"x_min\", x_min)\n",
    "    print(\"y_min\", y_min)\n",
    "    print(\"z_min\", z_min)\n",
    "    print(\"x_max\", x_max)\n",
    "    print(\"y_max\", y_max)\n",
    "    print(\"z_max\", z_max)"
   ]
  },
  {
   "cell_type": "markdown",
   "metadata": {},
   "source": [
    "# .bin file basics"
   ]
  },
  {
   "cell_type": "code",
   "execution_count": 13,
   "metadata": {},
   "outputs": [
    {
     "name": "stdout",
     "output_type": "stream",
     "text": [
      "b'd\\x19\"'\n"
     ]
    }
   ],
   "source": [
    "data = [100,25,34]\n",
    "buffer = bytes(data)\n",
    "print(buffer)\n",
    "f = open(\"binary.txt\", \"bw\")\n",
    "f.write(buffer)\n",
    "f.close()"
   ]
  },
  {
   "cell_type": "code",
   "execution_count": 14,
   "metadata": {},
   "outputs": [
    {
     "name": "stdout",
     "output_type": "stream",
     "text": [
      "b'd\\x19\"'\n",
      "[100, 25, 34]\n"
     ]
    }
   ],
   "source": [
    "with open(\"binary.txt\", \"br\") as f:\n",
    "    data = f.read()\n",
    "    print(data)\n",
    "    print(list(data))"
   ]
  },
  {
   "cell_type": "markdown",
   "metadata": {},
   "source": [
    "# COLMAP\n",
    "\n",
    "how 3DGS ```convert.py``` uses it"
   ]
  },
  {
   "cell_type": "code",
   "execution_count": 2,
   "metadata": {},
   "outputs": [],
   "source": [
    "from argparse import ArgumentParser \n",
    "import logging\n",
    "from argparse import ArgumentParser\n",
    "import shutil\n",
    "import os\n"
   ]
  },
  {
   "cell_type": "code",
   "execution_count": 3,
   "metadata": {},
   "outputs": [
    {
     "data": {
      "text/plain": [
       "_StoreAction(option_strings=['--magick_executable'], dest='magick_executable', nargs=None, const=None, default='', type=<class 'str'>, choices=None, help=None, metavar=None)"
      ]
     },
     "execution_count": 3,
     "metadata": {},
     "output_type": "execute_result"
    }
   ],
   "source": [
    "\n",
    "parser = ArgumentParser(\"Colmap converter\")\n",
    "#this name shows when writing --help\n",
    "parser.add_argument(\"--no_gpu\", action='store_true')\n",
    "# The action keyword argument specifies how the command-line arguments should be handled\n",
    "# here no_gpu will store True when --no_gpu is passed\n",
    "parser.add_argument(\"--skip_matching\", action='store_true')\n",
    "# will store True when --skip_matching is passed, by default it is False\n",
    "parser.add_argument(\"--source_path\", \"-s\", required=True, type=str)\n",
    "parser.add_argument(\"--camera\", default=\"OPENCV\", type=str)\n",
    "parser.add_argument(\"--colmap_executable\", default=\"\", type=str)\n",
    "parser.add_argument(\"--resize\", action=\"store_true\")\n",
    "parser.add_argument(\"--magick_executable\", default=\"\", type=str)"
   ]
  },
  {
   "cell_type": "code",
   "execution_count": 4,
   "metadata": {},
   "outputs": [
    {
     "name": "stdout",
     "output_type": "stream",
     "text": [
      "no_gpu : False\n",
      "skip_matching : False\n",
      "source_path : output/gerrard-hall-smallest\n",
      "camera : OPENCV\n",
      "colmap_executable : \n",
      "resize : True\n",
      "magick_executable : \n",
      "colmap\n",
      "magick\n"
     ]
    }
   ],
   "source": [
    "\n",
    "args = parser.parse_args([\"--source_path\", \"output/gerrard-hall-smallest\",\n",
    "                        \"--resize\",\n",
    "                        ])\n",
    "\n",
    "for arg in vars(args):\n",
    "    print(arg,\":\", getattr(args, arg))\n",
    "\n",
    "colmap_command = '\"{}\"'.format(args.colmap_executable) if len(args.colmap_executable) > 0 else \"colmap\"\n",
    "print(colmap_command)\n",
    "magick_command = '\"{}\"'.format(args.magick_executable) if len(args.magick_executable) > 0 else \"magick\"\n",
    "print(magick_command)\n",
    "use_gpu = 1 if not args.no_gpu else 0"
   ]
  },
  {
   "cell_type": "markdown",
   "metadata": {},
   "source": [
    "## Feature extraction"
   ]
  },
  {
   "cell_type": "code",
   "execution_count": 43,
   "metadata": {},
   "outputs": [
    {
     "name": "stdout",
     "output_type": "stream",
     "text": [
      "colmap feature_extractor --database_path output/gerrard-hall-smallest/distorted/database.db         --image_path output/gerrard-hall-smallest/input         --ImageReader.single_camera 1         --ImageReader.camera_model OPENCV         --SiftExtraction.use_gpu 1\n"
     ]
    },
    {
     "name": "stderr",
     "output_type": "stream",
     "text": [
      "I20240630 15:40:38.461405 139876361580544 misc.cc:198] \n",
      "==============================================================================\n",
      "Feature extraction\n",
      "==============================================================================\n",
      "I20240630 15:40:39.165918 139875617570816 feature_extraction.cc:254] Processed file [1/4]\n",
      "I20240630 15:40:39.165945 139875617570816 feature_extraction.cc:257]   Name:            IMG_2349.JPG\n",
      "I20240630 15:40:39.165948 139875617570816 feature_extraction.cc:283]   Dimensions:      5806 x 3815\n",
      "I20240630 15:40:39.165951 139875617570816 feature_extraction.cc:286]   Camera:          #1 - OPENCV\n",
      "I20240630 15:40:39.165953 139875617570816 feature_extraction.cc:289]   Focal Length:    6967.20px\n",
      "I20240630 15:40:39.165961 139875617570816 feature_extraction.cc:302]   Features:        12134\n",
      "I20240630 15:40:39.237188 139875617570816 feature_extraction.cc:254] Processed file [2/4]\n",
      "I20240630 15:40:39.237222 139875617570816 feature_extraction.cc:257]   Name:            IMG_2354.JPG\n",
      "I20240630 15:40:39.237237 139875617570816 feature_extraction.cc:283]   Dimensions:      5806 x 3815\n",
      "I20240630 15:40:39.237249 139875617570816 feature_extraction.cc:286]   Camera:          #1 - OPENCV\n",
      "I20240630 15:40:39.237260 139875617570816 feature_extraction.cc:289]   Focal Length:    6967.20px\n",
      "I20240630 15:40:39.237267 139875617570816 feature_extraction.cc:302]   Features:        10877\n",
      "I20240630 15:40:39.250486 139875617570816 feature_extraction.cc:254] Processed file [3/4]\n",
      "I20240630 15:40:39.250500 139875617570816 feature_extraction.cc:257]   Name:            IMG_2355.JPG\n",
      "I20240630 15:40:39.250503 139875617570816 feature_extraction.cc:283]   Dimensions:      5806 x 3815\n",
      "I20240630 15:40:39.250507 139875617570816 feature_extraction.cc:286]   Camera:          #1 - OPENCV\n",
      "I20240630 15:40:39.250509 139875617570816 feature_extraction.cc:289]   Focal Length:    6967.20px\n",
      "I20240630 15:40:39.250514 139875617570816 feature_extraction.cc:302]   Features:        11930\n",
      "I20240630 15:40:39.332877 139875617570816 feature_extraction.cc:254] Processed file [4/4]\n",
      "I20240630 15:40:39.332899 139875617570816 feature_extraction.cc:257]   Name:            IMG_2373.JPG\n",
      "I20240630 15:40:39.332902 139875617570816 feature_extraction.cc:283]   Dimensions:      5806 x 3815\n",
      "I20240630 15:40:39.332905 139875617570816 feature_extraction.cc:286]   Camera:          #1 - OPENCV\n",
      "I20240630 15:40:39.332908 139875617570816 feature_extraction.cc:289]   Focal Length:    6967.20px\n",
      "I20240630 15:40:39.332915 139875617570816 feature_extraction.cc:302]   Features:        13054\n"
     ]
    },
    {
     "name": "stdout",
     "output_type": "stream",
     "text": [
      "0\n"
     ]
    },
    {
     "name": "stderr",
     "output_type": "stream",
     "text": [
      "I20240630 15:40:39.380965 139876361580544 timer.cc:91] Elapsed time: 0.015 [minutes]\n"
     ]
    }
   ],
   "source": [
    "os.makedirs(args.source_path + \"/distorted/sparse\", exist_ok=True)\n",
    "feat_extracton_cmd = colmap_command + \" feature_extractor \"\\\n",
    "        \"--database_path \" + args.source_path + \"/distorted/database.db \\\n",
    "        --image_path \" + args.source_path + \"/input \\\n",
    "        --ImageReader.single_camera 1 \\\n",
    "        --ImageReader.camera_model \" + args.camera + \" \\\n",
    "        --SiftExtraction.use_gpu \" + str(use_gpu)\n",
    "print(feat_extracton_cmd)\n",
    "# COLMAP CLI to extract SIFT features from images\n",
    "# COLMAP feature_extractor\n",
    "# --database_path: Path to the SQLite database file, will be created\n",
    "# --image_path :NOTE name of images directory is input\n",
    "# --ImageReader.single_camera 1: Ensures all images have the same camera model\n",
    "# --ImageReader.camera_model: Camera model to use for all images, default is OPENCV model\n",
    "# because default args.camera is OPENCV\n",
    "# --SiftExtraction.use_gpu: Whether to use the GPU for SIFT extraction\n",
    "exit_code = os.system(feat_extracton_cmd)\n",
    "print(exit_code)"
   ]
  },
  {
   "cell_type": "markdown",
   "metadata": {},
   "source": [
    "## Feature matching"
   ]
  },
  {
   "cell_type": "code",
   "execution_count": 44,
   "metadata": {},
   "outputs": [
    {
     "name": "stderr",
     "output_type": "stream",
     "text": [
      "I20240630 15:42:11.935719 140345719013376 misc.cc:198] \n",
      "==============================================================================\n",
      "Exhaustive feature matching\n",
      "==============================================================================\n",
      "I20240630 15:42:12.002760 140345719013376 feature_matching.cc:231] Matching block [1/1, 1/1]\n",
      "I20240630 15:42:12.192990 140345719013376 feature_matching.cc:46]  in 0.190s\n",
      "I20240630 15:42:12.196214 140345719013376 timer.cc:91] Elapsed time: 0.004 [minutes]\n"
     ]
    }
   ],
   "source": [
    "feat_matching_cmd = colmap_command + \" exhaustive_matcher \\\n",
    "    --database_path \" + args.source_path + \"/distorted/database.db \\\n",
    "    --SiftMatching.use_gpu \" + str(use_gpu)\n",
    "# exhausitive matching is used to match features between images\n",
    "# database path same as above\n",
    "# SiftMatching.use_gpu: Use GPU is used in last step\n",
    "# No change in source_path tree structure only database.db is updated\n",
    "exit_code = os.system(feat_matching_cmd)\n",
    "if exit_code != 0:\n",
    "    logging.error(f\"Feature matching failed with code {exit_code}. Exiting.\")\n",
    "    exit(exit_code)"
   ]
  },
  {
   "cell_type": "markdown",
   "metadata": {},
   "source": [
    "## Bundle adjustment"
   ]
  },
  {
   "cell_type": "code",
   "execution_count": 45,
   "metadata": {},
   "outputs": [
    {
     "name": "stderr",
     "output_type": "stream",
     "text": [
      "I20240630 15:43:21.412920 140301693018112 misc.cc:198] \n",
      "==============================================================================\n",
      "Loading database\n",
      "==============================================================================\n",
      "I20240630 15:43:21.455691 140301693018112 database_cache.cc:54] Loading cameras...\n",
      "I20240630 15:43:21.458876 140301693018112 database_cache.cc:64]  1 in 0.003s\n",
      "I20240630 15:43:21.458942 140301693018112 database_cache.cc:72] Loading matches...\n",
      "I20240630 15:43:21.463934 140301693018112 database_cache.cc:78]  5 in 0.005s\n",
      "I20240630 15:43:21.463981 140301693018112 database_cache.cc:94] Loading images...\n",
      "I20240630 15:43:21.496069 140301693018112 database_cache.cc:143]  4 in 0.032s (connected 4)\n",
      "I20240630 15:43:21.496082 140301693018112 database_cache.cc:154] Building correspondence graph...\n",
      "I20240630 15:43:21.511308 140301693018112 database_cache.cc:190]  in 0.015s (ignored 0)\n",
      "I20240630 15:43:21.511322 140301693018112 timer.cc:91] Elapsed time: 0.001 [minutes]\n",
      "I20240630 15:43:21.519335 140301693018112 misc.cc:198] \n",
      "==============================================================================\n",
      "Finding good initial image pair\n",
      "==============================================================================\n",
      "I20240630 15:43:21.548774 140301693018112 misc.cc:198] \n",
      "==============================================================================\n",
      "Initializing with image pair #2 and #1\n",
      "==============================================================================\n",
      "I20240630 15:43:21.550519 140301693018112 misc.cc:198] \n",
      "==============================================================================\n",
      "Global bundle adjustment\n",
      "==============================================================================\n"
     ]
    },
    {
     "name": "stdout",
     "output_type": "stream",
     "text": [
      "iter      cost      cost_change  |gradient|   |step|    tr_ratio  tr_radius  ls_iter  iter_time  total_time\n",
      "   0  5.735188e+03    0.00e+00    4.27e+05   0.00e+00   0.00e+00  1.00e+04        0    9.75e-02    1.29e-01\n",
      "   1  4.767628e+03    9.68e+02    2.88e+06   0.00e+00   9.16e-01  2.36e+04        1    1.05e-02    1.40e-01\n",
      "   2  4.414890e+03    3.53e+02    5.69e+06   8.55e+01   4.72e-01  2.36e+04        1    3.43e-03    1.43e-01\n",
      "   3  3.825414e+03    5.89e+02    3.22e+06   4.08e+01   7.69e-01  2.80e+04        1    3.43e-03    1.47e-01\n",
      "   4  3.584912e+03    2.41e+02    3.28e+06   2.09e+01   4.57e-01  2.80e+04        1    3.57e-03    1.50e-01\n",
      "   5  3.270250e+03    3.15e+02    2.71e+06   6.49e+00   5.42e-01  2.80e+04        1    3.42e-03    1.54e-01\n",
      "   6  3.005841e+03    2.64e+02    2.30e+06   7.77e+00   5.12e-01  2.80e+04        1    3.42e-03    1.57e-01\n",
      "   7  2.793599e+03    2.12e+02    1.96e+06   1.76e+01   4.59e-01  2.80e+04        1    3.36e-03    1.60e-01\n",
      "   8  2.655043e+03    1.39e+02    1.65e+06   2.71e+01   3.26e-01  2.68e+04        1    3.41e-03    1.64e-01\n",
      "   9  2.630910e+03    2.41e+01    1.28e+06   3.40e+01   5.65e-02  1.58e+04        1    3.45e-03    1.67e-01\n",
      "  10  2.425221e+03    2.06e+02    3.97e+05   2.32e+01   4.32e-01  1.58e+04        1    3.34e-03    1.71e-01\n",
      "  11  2.701467e+03   -2.76e+02    3.97e+05   2.04e+01  -8.82e-01  7.88e+03        1    8.23e-04    1.72e-01\n",
      "  12  2.264277e+03    1.61e+02    8.67e+04   1.06e+01   5.44e-01  7.89e+03        1    3.48e-03    1.75e-01\n",
      "  13  2.128964e+03    1.35e+02    1.63e+04   8.97e+00   9.66e-01  2.37e+04        1    3.47e-03    1.78e-01\n",
      "  14  2.118564e+03    1.04e+01    5.92e+03   1.73e+01   1.00e+00  7.10e+04        1    3.44e-03    1.82e-01\n",
      "  15  2.116678e+03    1.89e+00    1.47e+04   1.51e+01   9.73e-01  2.13e+05        1    3.36e-03    1.85e-01\n",
      "  16  2.116253e+03    4.24e-01    1.43e+04   1.77e+01   5.69e-01  2.14e+05        1    3.31e-03    1.89e-01\n",
      "  17  2.119499e+03   -3.25e+00    1.43e+04   8.36e+00  -2.81e+00  1.07e+05        1    8.19e-04    1.89e-01\n",
      "  18  2.118956e+03   -2.70e+00    1.43e+04   4.31e+00  -2.96e+00  2.67e+04        1    7.57e-04    1.90e-01\n",
      "  19  2.117434e+03   -1.18e+00    1.43e+04   1.10e+00  -1.75e+00  3.34e+03        1    7.50e-04    1.91e-01\n",
      "  20  2.116165e+03    8.83e-02    3.43e+03   1.26e-01   2.03e-01  2.76e+03        1    3.40e-03    1.94e-01\n",
      "  21  2.116027e+03    1.38e-01    1.46e+03   3.96e-01   5.17e-01  2.76e+03        1    3.32e-03    1.98e-01\n",
      "  22  2.115987e+03    4.00e-02    8.32e+02   1.13e-01   3.94e-01  2.73e+03        1    3.37e-03    2.01e-01\n",
      "  23  2.115965e+03    2.18e-02    2.78e+02   3.18e-01   4.83e-01  2.73e+03        1    3.42e-03    2.04e-01\n",
      "  24  2.115953e+03    1.18e-02    1.83e+02   1.77e-01   5.00e-01  2.73e+03        1    3.60e-03    2.08e-01\n",
      "  25  2.115944e+03    9.34e-03    5.78e+01   2.64e-01   6.70e-01  2.84e+03        1    3.38e-03    2.11e-01\n",
      "  26  2.115936e+03    8.17e-03    6.34e+01   2.04e-01   7.67e-01  3.35e+03        1    3.32e-03    2.15e-01\n",
      "  27  2.115927e+03    8.84e-03    4.17e+01   2.83e-01   8.92e-01  6.47e+03        1    3.44e-03    2.18e-01\n",
      "  28  2.115911e+03    1.59e-02    3.96e+01   4.52e-01   9.23e-01  1.64e+04        1    3.37e-03    2.22e-01\n",
      "  29  2.115873e+03    3.81e-02    8.34e+01   1.17e+00   9.60e-01  4.91e+04        1    3.48e-03    2.25e-01\n",
      "  30  2.115766e+03    1.07e-01    6.81e+02   3.00e+00   9.29e-01  1.33e+05        1    3.50e-03    2.29e-01\n",
      "  31  2.115502e+03    2.64e-01    5.87e+03   9.11e+00   8.39e-01  1.92e+05        1    3.37e-03    2.32e-01\n",
      "  32  2.115350e+03    1.52e-01    8.73e+03   9.70e+00   2.84e-01  1.78e+05        1    3.39e-03    2.35e-01\n",
      "  33  2.119656e+03   -4.31e+00    8.73e+03   1.70e+01  -3.60e+00  8.90e+04        1    8.22e-04    2.36e-01\n",
      "  34  2.118726e+03   -3.38e+00    8.73e+03   8.93e+00  -3.49e+00  2.22e+04        1    7.57e-04    2.37e-01\n",
      "  35  2.116744e+03   -1.39e+00    8.73e+03   2.60e+00  -1.87e+00  2.78e+03        1    7.56e-04    2.38e-01\n",
      "  36  2.115203e+03    1.47e-01    3.13e+03   5.51e-01   3.03e-01  2.62e+03        1    3.23e-03    2.41e-01\n",
      "  37  2.115080e+03    1.23e-01    1.29e+03   1.44e-01   5.51e-01  2.62e+03        1    3.51e-03    2.44e-01\n",
      "  38  2.115046e+03    3.48e-02    5.48e+02   2.91e-01   4.24e-01  2.61e+03        1    3.42e-03    2.48e-01\n",
      "  39  2.115030e+03    1.57e-02    2.64e+02   1.58e-01   4.81e-01  2.61e+03        1    3.47e-03    2.51e-01\n",
      "  40  2.115020e+03    9.97e-03    8.67e+01   2.09e-01   5.42e-01  2.61e+03        1    3.37e-03    2.55e-01\n",
      "  41  2.115012e+03    7.61e-03    5.42e+01   1.60e-01   7.12e-01  2.83e+03        1    3.37e-03    2.58e-01\n",
      "  42  2.115005e+03    7.21e-03    5.50e+01   1.97e-01   8.10e-01  3.71e+03        1    3.53e-03    2.62e-01\n",
      "  43  2.114996e+03    8.77e-03    3.53e+01   2.28e-01   9.21e-01  9.18e+03        1    3.37e-03    2.65e-01\n",
      "  44  2.114976e+03    2.07e-02    3.44e+01   6.08e-01   9.40e-01  2.76e+04        1    3.52e-03    2.68e-01\n",
      "  45  2.114915e+03    6.05e-02    2.34e+02   1.68e+00   9.64e-01  8.27e+04        1    3.43e-03    2.72e-01\n",
      "  46  2.114741e+03    1.74e-01    2.32e+03   5.50e+00   9.21e-01  2.05e+05        1    3.45e-03    2.75e-01\n",
      "  47  2.114370e+03    3.71e-01    1.27e+04   1.14e+01   7.76e-01  2.46e+05        1    3.29e-03    2.79e-01\n",
      "  48  2.114537e+03   -1.67e-01    1.27e+04   1.93e+01  -2.15e-01  1.23e+05        1    8.20e-04    2.79e-01\n",
      "  49  2.114606e+03   -2.37e-01    1.27e+04   9.94e+00  -4.77e-01  3.08e+04        1    7.60e-04    2.80e-01\n",
      "  50  2.114530e+03   -1.60e-01    1.27e+04   2.74e+00  -5.90e-01  3.85e+03        1    7.77e-04    2.81e-01\n",
      "  51  2.114322e+03    4.79e-02    1.15e+03   4.90e-01   3.10e-01  3.65e+03        1    3.40e-03    2.84e-01\n",
      "  52  2.114297e+03    2.54e-02    8.22e+02   1.76e-01   2.91e-01  3.40e+03        1    3.39e-03    2.88e-01\n",
      "  53  2.114277e+03    1.97e-02    4.75e+02   3.26e-01   3.23e-01  3.26e+03        1    3.48e-03    2.91e-01\n",
      "  54  2.114263e+03    1.35e-02    3.34e+02   1.68e-01   3.71e-01  3.20e+03        1    3.40e-03    2.95e-01\n",
      "  55  2.114252e+03    1.11e-02    1.49e+02   2.57e-01   4.48e-01  3.20e+03        1    3.35e-03    2.98e-01\n",
      "  56  2.114243e+03    8.96e-03    1.17e+02   1.74e-01   5.47e-01  3.20e+03        1    3.38e-03    3.01e-01\n",
      "  57  2.114235e+03    8.21e-03    3.79e+01   2.30e-01   6.51e-01  3.29e+03        1    3.35e-03    3.05e-01\n",
      "  58  2.114227e+03    7.81e-03    3.95e+01   1.88e-01   7.62e-01  3.84e+03        1    3.33e-03    3.08e-01\n",
      "  59  2.114219e+03    8.70e-03    1.97e+01   2.60e-01   8.37e-01  5.55e+03        1    3.27e-03    3.11e-01\n",
      "  60  2.114206e+03    1.21e-02    1.33e+01   3.26e-01   8.97e-01  1.11e+04        1    3.41e-03    3.15e-01\n",
      "  61  2.114183e+03    2.38e-02    2.44e+01   7.37e-01   9.09e-01  2.45e+04        1    3.50e-03    3.18e-01\n",
      "  62  2.114132e+03    5.11e-02    1.26e+02   1.44e+00   8.98e-01  4.96e+04        1    3.48e-03    3.22e-01\n",
      "  63  2.114036e+03    9.52e-02    6.08e+02   3.38e+00   7.87e-01  6.13e+04        1    3.41e-03    3.25e-01\n",
      "  64  2.113980e+03    5.68e-02    9.05e+02   3.10e+00   3.03e-01  5.78e+04        1    3.44e-03    3.29e-01\n",
      "  65  2.114488e+03   -5.08e-01    9.05e+02   5.06e+00  -1.27e+00  2.89e+04        1    8.32e-04    3.29e-01\n",
      "  66  2.114325e+03   -3.46e-01    9.05e+02   2.70e+00  -1.08e+00  7.22e+03        1    7.63e-04    3.30e-01\n",
      "  67  2.114026e+03   -4.62e-02    9.05e+02   8.77e-01  -2.04e-01  9.03e+02        1    7.96e-04    3.31e-01\n",
      "  68  2.113900e+03    7.95e-02    4.49e+02   1.39e-01   6.63e-01  9.35e+02        1    3.37e-03    3.34e-01\n",
      "  69  2.113892e+03    8.22e-03    4.17e+01   9.70e-02   9.74e-01  2.81e+03        1    3.46e-03    3.38e-01\n",
      "  70  2.113881e+03    1.07e-02    5.62e+01   2.47e-01   9.28e-01  7.55e+03        1    3.40e-03    3.41e-01\n",
      "  71  2.113862e+03    1.89e-02    4.69e+01   5.06e-01   9.97e-01  2.27e+04        1    3.41e-03    3.45e-01\n",
      "  72  2.113812e+03    4.98e-02    1.84e+02   1.42e+00   9.95e-01  6.80e+04        1    3.35e-03    3.48e-01\n",
      "  73  2.113666e+03    1.47e-01    1.57e+03   4.15e+00   9.96e-01  2.04e+05        1    3.39e-03    3.51e-01\n",
      "  74  2.113252e+03    4.14e-01    1.41e+04   1.27e+01   9.37e-01  6.12e+05        1    3.50e-03    3.55e-01\n",
      "  75  2.113810e+03   -5.58e-01    1.41e+04   3.51e+01  -4.18e-01  3.06e+05        1    8.36e-04    3.56e-01\n",
      "  76  2.112701e+03    5.50e-01    3.01e+04   1.75e+01   8.04e-01  3.94e+05        1    3.55e-03    3.59e-01\n",
      "  77  2.112188e+03    5.14e-01    5.19e+04   2.62e+01   5.10e-01  3.94e+05        1    3.39e-03    3.63e-01\n",
      "  78  2.113117e+03   -9.30e-01    5.19e+04   1.58e+01  -6.13e-01  1.97e+05        1    8.46e-04    3.64e-01\n",
      "  79  2.113021e+03   -8.34e-01    5.19e+04   7.32e+00  -7.51e-01  4.93e+04        1    7.76e-04    3.64e-01\n",
      "  80  2.112657e+03   -4.70e-01    5.19e+04   1.55e+00  -5.97e-01  6.16e+03        1    7.76e-04    3.65e-01\n",
      "  81  2.111920e+03    2.67e-01    3.28e+03   2.32e-01   4.40e-01  6.15e+03        1    3.45e-03    3.69e-01\n",
      "  82  2.111922e+03   -1.68e-03    3.28e+03   8.04e-01  -4.69e-03  3.07e+03        1    8.28e-04    3.69e-01\n",
      "  83  2.111813e+03    1.07e-01    2.21e+03   4.57e-01   3.31e-01  2.96e+03        1    3.36e-03    3.73e-01\n",
      "  84  2.111753e+03    6.00e-02    1.33e+03   9.17e-02   3.59e-01  2.90e+03        1    3.43e-03    3.76e-01\n",
      "  85  2.111720e+03    3.24e-02    6.06e+02   3.12e-01   3.84e-01  2.86e+03        1    3.51e-03    3.80e-01\n",
      "  86  2.111705e+03    1.54e-02    3.85e+02   1.14e-01   3.66e-01  2.81e+03        1    3.47e-03    3.83e-01\n",
      "  87  2.111694e+03    1.10e-02    1.42e+02   2.33e-01   4.60e-01  2.80e+03        1    3.47e-03    3.87e-01\n",
      "  88  2.111686e+03    8.01e-03    1.05e+02   1.34e-01   5.48e-01  2.81e+03        1    3.43e-03    3.90e-01\n",
      "  89  2.111679e+03    7.05e-03    2.37e+01   1.96e-01   6.89e-01  2.97e+03        1    3.48e-03    3.94e-01\n",
      "  90  2.111672e+03    6.76e-03    2.70e+01   1.55e-01   7.98e-01  3.76e+03        1    3.40e-03    3.97e-01\n",
      "  91  2.111664e+03    8.15e-03    5.25e+00   2.38e-01   8.89e-01  7.10e+03        1    3.58e-03    4.01e-01\n",
      "  92  2.111649e+03    1.49e-02    1.62e+01   3.84e-01   9.28e-01  1.91e+04        1    3.42e-03    4.04e-01\n",
      "  93  2.111610e+03    3.94e-02    9.94e+01   1.15e+00   9.46e-01  5.73e+04        1    3.36e-03    4.07e-01\n",
      "  94  2.111495e+03    1.15e-01    8.75e+02   3.07e+00   9.23e-01  1.45e+05        1    3.45e-03    4.11e-01\n",
      "  95  2.111231e+03    2.63e-01    6.46e+03   9.18e+00   8.03e-01  1.87e+05        1    3.62e-03    4.14e-01\n",
      "  96  2.111221e+03    1.00e-02    7.75e+03   8.08e+00   1.88e-02  9.88e+04        1    3.41e-03    4.18e-01\n",
      "  97  2.116872e+03   -5.65e+00    7.75e+03   9.84e+00  -4.60e+00  4.94e+04        1    8.14e-04    4.19e-01\n",
      "  98  2.115257e+03   -4.04e+00    7.75e+03   5.27e+00  -3.71e+00  1.23e+04        1    7.54e-04    4.19e-01\n",
      "  99  2.112390e+03   -1.17e+00    7.75e+03   1.70e+00  -1.32e+00  1.54e+03        1    7.64e-04    4.20e-01\n",
      " 100  2.110910e+03    3.11e-01    2.48e+03   3.57e-01   5.50e-01  1.54e+03        1    3.42e-03    4.24e-01\n"
     ]
    },
    {
     "name": "stderr",
     "output_type": "stream",
     "text": [
      "I20240630 15:43:22.074715 140301693018112 misc.cc:205] \n",
      "Bundle adjustment report\n",
      "------------------------\n",
      "I20240630 15:43:22.074730 140301693018112 bundle_adjustment.cc:942] \n",
      "    Residuals : 5688\n",
      "   Parameters : 4277\n",
      "   Iterations : 101\n",
      "         Time : 0.42367 [s]\n",
      " Initial cost : 1.00414 [px]\n",
      "   Final cost : 0.609193 [px]\n",
      "  Termination : No convergence\n",
      "\n",
      "I20240630 15:43:22.075322 140301693018112 incremental_mapper.cc:160] => Filtered observations: 10\n",
      "I20240630 15:43:22.075324 140301693018112 incremental_mapper.cc:167] => Filtered images: 0\n",
      "I20240630 15:43:22.172732 140301693018112 misc.cc:198] \n",
      "==============================================================================\n",
      "Registering image #3 (3)\n",
      "==============================================================================\n",
      "I20240630 15:43:22.172744 140301693018112 incremental_mapper.cc:495] => Image sees 985 / 3512 points\n",
      "I20240630 15:43:22.200758 140301693018112 misc.cc:205] \n",
      "Pose refinement report\n",
      "----------------------\n",
      "I20240630 15:43:22.200769 140301693018112 bundle_adjustment.cc:942] \n",
      "    Residuals : 1602\n",
      "   Parameters : 6\n",
      "   Iterations : 31\n",
      "         Time : 0.0235131 [s]\n",
      " Initial cost : 0.898417 [px]\n",
      "   Final cost : 0.86297 [px]\n",
      "  Termination : Convergence\n",
      "\n",
      "I20240630 15:43:22.200977 140301693018112 incremental_mapper.cc:40] => Continued observations: 801\n",
      "I20240630 15:43:22.201789 140301693018112 incremental_mapper.cc:43] => Added observations: 482\n",
      "I20240630 15:43:22.330863 140301693018112 misc.cc:205] \n",
      "Bundle adjustment report\n",
      "------------------------\n",
      "I20240630 15:43:22.330870 140301693018112 bundle_adjustment.cc:942] \n",
      "    Residuals : 8234\n",
      "   Parameters : 4649\n",
      "   Iterations : 26\n",
      "         Time : 0.127472 [s]\n",
      " Initial cost : 1.39972 [px]\n",
      "   Final cost : 0.774572 [px]\n",
      "  Termination : No convergence\n",
      "\n",
      "I20240630 15:43:22.332370 140301693018112 incremental_mapper.cc:78] => Merged observations: 0\n",
      "I20240630 15:43:22.332372 140301693018112 incremental_mapper.cc:79] => Completed observations: 27\n",
      "I20240630 15:43:22.332373 140301693018112 incremental_mapper.cc:81] => Filtered observations: 323\n",
      "I20240630 15:43:22.332374 140301693018112 incremental_mapper.cc:90] => Changed observations: 0.085013\n",
      "I20240630 15:43:22.465678 140301693018112 misc.cc:205] \n",
      "Bundle adjustment report\n",
      "------------------------\n",
      "I20240630 15:43:22.465683 140301693018112 bundle_adjustment.cc:942] \n",
      "    Residuals : 7642\n",
      "   Parameters : 4406\n",
      "   Iterations : 26\n",
      "         Time : 0.131888 [s]\n",
      " Initial cost : 0.675328 [px]\n",
      "   Final cost : 0.30265 [px]\n",
      "  Termination : No convergence\n",
      "\n",
      "I20240630 15:43:22.467363 140301693018112 incremental_mapper.cc:78] => Merged observations: 0\n",
      "I20240630 15:43:22.467365 140301693018112 incremental_mapper.cc:79] => Completed observations: 217\n",
      "I20240630 15:43:22.467366 140301693018112 incremental_mapper.cc:81] => Filtered observations: 4\n",
      "I20240630 15:43:22.467366 140301693018112 incremental_mapper.cc:90] => Changed observations: 0.057838\n",
      "I20240630 15:43:22.467379 140301693018112 misc.cc:198] \n",
      "==============================================================================\n",
      "Retriangulation\n",
      "==============================================================================\n",
      "I20240630 15:43:22.467523 140301693018112 incremental_mapper.cc:175] => Completed observations: 0\n",
      "I20240630 15:43:22.467630 140301693018112 incremental_mapper.cc:178] => Merged observations: 0\n",
      "I20240630 15:43:22.467632 140301693018112 incremental_mapper.cc:105] => Retriangulated observations: 0\n",
      "I20240630 15:43:22.467634 140301693018112 misc.cc:198] \n",
      "==============================================================================\n",
      "Global bundle adjustment\n",
      "==============================================================================\n"
     ]
    },
    {
     "name": "stdout",
     "output_type": "stream",
     "text": [
      "iter      cost      cost_change  |gradient|   |step|    tr_ratio  tr_radius  ls_iter  iter_time  total_time\n",
      "   0  8.981576e+02    0.00e+00    3.83e+05   0.00e+00   0.00e+00  1.00e+04        0    4.07e-03    5.93e-03\n",
      "   1  8.016385e+02    9.65e+01    8.38e+04   0.00e+00   9.91e-01  3.00e+04        1    5.54e-03    1.15e-02\n",
      "   2  7.848436e+02    1.68e+01    1.88e+05   3.71e+01   7.42e-01  3.38e+04        1    5.29e-03    1.68e-02\n",
      "   3  7.707823e+02    1.41e+01    8.07e+04   2.23e+01   9.44e-01  1.01e+05        1    5.34e-03    2.21e-02\n",
      "   4  7.627134e+02    8.07e+00    3.44e+05   3.90e+01   5.20e-01  1.01e+05        1    5.19e-03    2.73e-02\n",
      "   5  7.482643e+02    1.44e+01    3.01e+05   3.51e+01   7.36e-01  1.13e+05        1    5.47e-03    3.28e-02\n",
      "   6  7.372284e+02    1.10e+01    3.48e+05   3.77e+01   6.32e-01  1.15e+05        1    5.38e-03    3.82e-02\n",
      "   7  7.250021e+02    1.22e+01    3.37e+05   3.72e+01   6.82e-01  1.21e+05        1    5.29e-03    4.35e-02\n",
      "   8  7.139144e+02    1.11e+01    3.48e+05   3.78e+01   6.55e-01  1.25e+05        1    5.40e-03    4.89e-02\n",
      "   9  7.029278e+02    1.10e+01    3.46e+05   3.75e+01   6.62e-01  1.30e+05        1    5.26e-03    5.41e-02\n",
      "  10  6.924779e+02    1.04e+01    3.47e+05   3.73e+01   6.54e-01  1.33e+05        1    5.30e-03    5.94e-02\n",
      "  11  6.823813e+02    1.01e+01    3.45e+05   3.69e+01   6.54e-01  1.37e+05        1    5.36e-03    6.48e-02\n",
      "  12  6.727178e+02    9.66e+00    3.42e+05   3.64e+01   6.51e-01  1.41e+05        1    5.65e-03    7.04e-02\n",
      "  13  6.634614e+02    9.26e+00    3.37e+05   3.58e+01   6.49e-01  1.45e+05        1    5.46e-03    7.59e-02\n",
      "  14  6.546228e+02    8.84e+00    3.32e+05   3.53e+01   6.48e-01  1.49e+05        1    5.39e-03    8.13e-02\n",
      "  15  6.461937e+02    8.43e+00    3.27e+05   3.46e+01   6.47e-01  1.53e+05        1    5.37e-03    8.67e-02\n",
      "  16  6.381685e+02    8.03e+00    3.21e+05   3.40e+01   6.47e-01  1.57e+05        1    5.38e-03    9.20e-02\n",
      "  17  6.305367e+02    7.63e+00    3.14e+05   3.33e+01   6.47e-01  1.61e+05        1    5.37e-03    9.74e-02\n",
      "  18  6.232869e+02    7.25e+00    3.08e+05   3.27e+01   6.46e-01  1.65e+05        1    5.30e-03    1.03e-01\n",
      "  19  6.164060e+02    6.88e+00    3.01e+05   3.21e+01   6.47e-01  1.69e+05        1    5.44e-03    1.08e-01\n",
      "  20  6.098803e+02    6.53e+00    2.95e+05   3.14e+01   6.47e-01  1.74e+05        1    5.51e-03    1.14e-01\n",
      "  21  6.036958e+02    6.18e+00    2.88e+05   3.08e+01   6.47e-01  1.78e+05        1    5.40e-03    1.19e-01\n",
      "  22  5.978379e+02    5.86e+00    2.81e+05   3.02e+01   6.47e-01  1.83e+05        1    5.16e-03    1.24e-01\n",
      "  23  5.922927e+02    5.55e+00    2.75e+05   2.96e+01   6.47e-01  1.88e+05        1    5.34e-03    1.30e-01\n",
      "  24  5.870460e+02    5.25e+00    2.68e+05   2.90e+01   6.48e-01  1.93e+05        1    5.30e-03    1.35e-01\n",
      "  25  5.820841e+02    4.96e+00    2.62e+05   2.84e+01   6.48e-01  1.98e+05        1    5.43e-03    1.40e-01\n",
      "  26  5.773938e+02    4.69e+00    2.55e+05   2.78e+01   6.48e-01  2.03e+05        1    5.55e-03    1.46e-01\n",
      "  27  5.729622e+02    4.43e+00    2.49e+05   2.72e+01   6.49e-01  2.09e+05        1    5.52e-03    1.51e-01\n",
      "  28  5.687767e+02    4.19e+00    2.43e+05   2.67e+01   6.49e-01  2.14e+05        1    5.50e-03    1.57e-01\n",
      "  29  5.648256e+02    3.95e+00    2.37e+05   2.61e+01   6.50e-01  2.20e+05        1    5.65e-03    1.63e-01\n",
      "  30  5.610971e+02    3.73e+00    2.31e+05   2.56e+01   6.50e-01  2.26e+05        1    5.50e-03    1.68e-01\n",
      "  31  5.575804e+02    3.52e+00    2.25e+05   2.51e+01   6.51e-01  2.33e+05        1    5.56e-03    1.74e-01\n",
      "  32  5.542647e+02    3.32e+00    2.19e+05   2.46e+01   6.51e-01  2.39e+05        1    5.58e-03    1.79e-01\n",
      "  33  5.511400e+02    3.12e+00    2.13e+05   2.41e+01   6.51e-01  2.46e+05        1    5.57e-03    1.85e-01\n",
      "  34  5.481966e+02    2.94e+00    2.07e+05   2.36e+01   6.52e-01  2.53e+05        1    5.50e-03    1.90e-01\n",
      "  35  5.454252e+02    2.77e+00    2.02e+05   2.31e+01   6.52e-01  2.61e+05        1    5.50e-03    1.96e-01\n",
      "  36  5.428168e+02    2.61e+00    1.96e+05   2.26e+01   6.53e-01  2.68e+05        1    5.46e-03    2.01e-01\n",
      "  37  5.403631e+02    2.45e+00    1.91e+05   2.22e+01   6.53e-01  2.76e+05        1    5.46e-03    2.07e-01\n",
      "  38  5.380560e+02    2.31e+00    1.85e+05   2.17e+01   6.54e-01  2.85e+05        1    5.41e-03    2.12e-01\n",
      "  39  5.358877e+02    2.17e+00    1.80e+05   2.13e+01   6.54e-01  2.93e+05        1    5.49e-03    2.18e-01\n",
      "  40  5.338509e+02    2.04e+00    1.75e+05   2.08e+01   6.55e-01  3.02e+05        1    5.25e-03    2.23e-01\n",
      "  41  5.319386e+02    1.91e+00    1.70e+05   2.04e+01   6.55e-01  3.11e+05        1    5.33e-03    2.28e-01\n",
      "  42  5.301441e+02    1.79e+00    1.65e+05   2.00e+01   6.56e-01  3.21e+05        1    5.43e-03    2.34e-01\n",
      "  43  5.284610e+02    1.68e+00    1.60e+05   1.95e+01   6.56e-01  3.31e+05        1    5.68e-03    2.39e-01\n",
      "  44  5.268833e+02    1.58e+00    1.56e+05   1.91e+01   6.57e-01  3.42e+05        1    5.46e-03    2.45e-01\n",
      "  45  5.254053e+02    1.48e+00    1.51e+05   1.87e+01   6.57e-01  3.52e+05        1    5.50e-03    2.50e-01\n",
      "  46  5.240213e+02    1.38e+00    1.46e+05   1.84e+01   6.58e-01  3.64e+05        1    5.60e-03    2.56e-01\n",
      "  47  5.227263e+02    1.30e+00    1.42e+05   1.80e+01   6.58e-01  3.76e+05        1    5.51e-03    2.61e-01\n",
      "  48  5.215152e+02    1.21e+00    1.37e+05   1.76e+01   6.59e-01  3.88e+05        1    5.36e-03    2.67e-01\n",
      "  49  5.203834e+02    1.13e+00    1.33e+05   1.72e+01   6.59e-01  4.01e+05        1    5.47e-03    2.72e-01\n",
      "  50  5.193263e+02    1.06e+00    1.29e+05   1.68e+01   6.60e-01  4.15e+05        1    5.36e-03    2.78e-01\n",
      "  51  5.183397e+02    9.87e-01    1.25e+05   1.65e+01   6.60e-01  4.29e+05        1    5.27e-03    2.83e-01\n",
      "  52  5.174197e+02    9.20e-01    1.21e+05   1.61e+01   6.61e-01  4.43e+05        1    5.44e-03    2.88e-01\n",
      "  53  5.165623e+02    8.57e-01    1.17e+05   1.58e+01   6.62e-01  4.59e+05        1    5.34e-03    2.94e-01\n",
      "  54  5.157639e+02    7.98e-01    1.13e+05   1.54e+01   6.62e-01  4.75e+05        1    5.34e-03    2.99e-01\n",
      "  55  5.150211e+02    7.43e-01    1.09e+05   1.51e+01   6.63e-01  4.92e+05        1    5.26e-03    3.04e-01\n",
      "  56  5.143307e+02    6.90e-01    1.05e+05   1.48e+01   6.64e-01  5.10e+05        1    5.31e-03    3.10e-01\n",
      "  57  5.136895e+02    6.41e-01    1.01e+05   1.44e+01   6.64e-01  5.29e+05        1    5.46e-03    3.15e-01\n",
      "  58  5.130945e+02    5.95e-01    9.78e+04   1.41e+01   6.65e-01  5.49e+05        1    5.52e-03    3.21e-01\n",
      "  59  5.125431e+02    5.51e-01    9.42e+04   1.38e+01   6.66e-01  5.69e+05        1    5.35e-03    3.26e-01\n",
      "  60  5.120326e+02    5.11e-01    9.07e+04   1.35e+01   6.67e-01  5.91e+05        1    5.44e-03    3.31e-01\n",
      "  61  5.115605e+02    4.72e-01    8.73e+04   1.32e+01   6.68e-01  6.14e+05        1    5.31e-03    3.37e-01\n",
      "  62  5.111244e+02    4.36e-01    8.39e+04   1.29e+01   6.68e-01  6.39e+05        1    5.36e-03    3.42e-01\n",
      "  63  5.107221e+02    4.02e-01    8.06e+04   1.25e+01   6.69e-01  6.65e+05        1    5.28e-03    3.47e-01\n",
      "  64  5.103515e+02    3.71e-01    7.74e+04   1.22e+01   6.70e-01  6.92e+05        1    5.34e-03    3.53e-01\n",
      "  65  5.100106e+02    3.41e-01    7.43e+04   1.19e+01   6.71e-01  7.21e+05        1    5.40e-03    3.58e-01\n",
      "  66  5.096976e+02    3.13e-01    7.11e+04   1.17e+01   6.73e-01  7.52e+05        1    5.32e-03    3.63e-01\n",
      "  67  5.094105e+02    2.87e-01    6.81e+04   1.14e+01   6.74e-01  7.85e+05        1    5.57e-03    3.69e-01\n",
      "  68  5.091478e+02    2.63e-01    6.51e+04   1.11e+01   6.75e-01  8.20e+05        1    5.23e-03    3.74e-01\n",
      "  69  5.089078e+02    2.40e-01    6.22e+04   1.08e+01   6.76e-01  8.58e+05        1    5.61e-03    3.80e-01\n",
      "  70  5.086890e+02    2.19e-01    5.93e+04   1.05e+01   6.78e-01  8.98e+05        1    5.36e-03    3.85e-01\n",
      "  71  5.084901e+02    1.99e-01    5.65e+04   1.02e+01   6.79e-01  9.41e+05        1    5.24e-03    3.90e-01\n",
      "  72  5.083095e+02    1.81e-01    5.37e+04   9.92e+00   6.81e-01  9.88e+05        1    5.40e-03    3.96e-01\n",
      "  73  5.081461e+02    1.63e-01    5.10e+04   9.63e+00   6.82e-01  1.04e+06        1    5.24e-03    4.01e-01\n",
      "  74  5.079987e+02    1.47e-01    4.84e+04   9.35e+00   6.84e-01  1.09e+06        1    5.39e-03    4.06e-01\n",
      "  75  5.078660e+02    1.33e-01    4.58e+04   9.07e+00   6.86e-01  1.15e+06        1    5.23e-03    4.12e-01\n",
      "  76  5.077471e+02    1.19e-01    4.32e+04   8.79e+00   6.88e-01  1.22e+06        1    5.32e-03    4.17e-01\n",
      "  77  5.076409e+02    1.06e-01    4.07e+04   8.50e+00   6.90e-01  1.29e+06        1    5.32e-03    4.22e-01\n",
      "  78  5.075464e+02    9.45e-02    3.83e+04   8.22e+00   6.93e-01  1.37e+06        1    5.24e-03    4.28e-01\n",
      "  79  5.074627e+02    8.37e-02    3.59e+04   7.94e+00   6.95e-01  1.45e+06        1    5.23e-03    4.33e-01\n",
      "  80  5.073890e+02    7.37e-02    3.35e+04   7.65e+00   6.98e-01  1.55e+06        1    5.47e-03    4.38e-01\n",
      "  81  5.073244e+02    6.46e-02    3.12e+04   7.37e+00   7.01e-01  1.66e+06        1    5.55e-03    4.44e-01\n",
      "  82  5.072682e+02    5.62e-02    2.89e+04   7.08e+00   7.04e-01  1.78e+06        1    5.38e-03    4.49e-01\n",
      "  83  5.072195e+02    4.86e-02    2.67e+04   6.79e+00   7.08e-01  1.91e+06        1    5.23e-03    4.54e-01\n",
      "  84  5.071778e+02    4.17e-02    2.45e+04   6.49e+00   7.12e-01  2.07e+06        1    5.35e-03    4.60e-01\n",
      "  85  5.071424e+02    3.55e-02    2.24e+04   6.19e+00   7.16e-01  2.25e+06        1    5.40e-03    4.65e-01\n",
      "  86  5.071126e+02    2.98e-02    2.03e+04   5.88e+00   7.21e-01  2.46e+06        1    5.33e-03    4.71e-01\n",
      "  87  5.070878e+02    2.48e-02    1.83e+04   5.57e+00   7.26e-01  2.72e+06        1    5.24e-03    4.76e-01\n",
      "  88  5.070675e+02    2.03e-02    1.63e+04   5.26e+00   7.32e-01  3.02e+06        1    5.34e-03    4.81e-01\n",
      "  89  5.070512e+02    1.63e-02    1.44e+04   4.93e+00   7.39e-01  3.39e+06        1    5.23e-03    4.86e-01\n",
      "  90  5.070383e+02    1.29e-02    1.26e+04   4.59e+00   7.47e-01  3.86e+06        1    5.19e-03    4.92e-01\n",
      "  91  5.070283e+02    9.92e-03    1.08e+04   4.25e+00   7.56e-01  4.46e+06        1    5.20e-03    4.97e-01\n",
      "  92  5.070209e+02    7.40e-03    9.04e+03   3.89e+00   7.67e-01  5.26e+06        1    5.37e-03    5.02e-01\n",
      "  93  5.070156e+02    5.30e-03    7.38e+03   3.51e+00   7.80e-01  6.39e+06        1    5.42e-03    5.08e-01\n",
      "  94  5.070120e+02    3.60e-03    5.81e+03   3.11e+00   7.97e-01  8.08e+06        1    5.21e-03    5.13e-01\n",
      "  95  5.070098e+02    2.27e-03    4.33e+03   2.68e+00   8.17e-01  1.08e+07        1    5.29e-03    5.18e-01\n",
      "  96  5.070085e+02    1.29e-03    2.98e+03   2.22e+00   8.43e-01  1.60e+07        1    5.23e-03    5.23e-01\n",
      "  97  5.070079e+02    6.17e-04    1.79e+03   1.72e+00   8.78e-01  2.83e+07        1    5.29e-03    5.29e-01\n",
      "  98  5.070076e+02    2.21e-04    8.36e+02   1.18e+00   9.26e-01  7.39e+07        1    5.13e-03    5.34e-01\n",
      "iter      cost      cost_change  |gradient|   |step|    tr_ratio  tr_radius  ls_iter  iter_time  total_time\n",
      "   0  5.510379e+02    0.00e+00    3.22e+04   0.00e+00   0.00e+00  1.00e+04        0    4.32e-03    6.08e-03\n",
      "   1  5.172713e+02    3.38e+01    2.51e+02   0.00e+00   1.00e+00  3.00e+04        1    5.55e-03    1.16e-02\n",
      "   2  5.171453e+02    1.26e-01    1.50e+02   1.65e-01   1.00e+00  9.00e+04        1    5.38e-03    1.70e-02\n",
      "   3  5.171031e+02    4.22e-02    1.47e+02   3.76e-01   1.00e+00  2.70e+05        1    5.38e-03    2.24e-02\n",
      "   4  5.170855e+02    1.76e-02    5.23e+01   6.57e-01   1.00e+00  8.10e+05        1    5.24e-03    2.76e-02\n",
      "   5  5.170810e+02    4.43e-03    7.13e+02   1.21e+00   9.98e-01  2.43e+06        1    5.31e-03    3.30e-02\n",
      "   6  5.170754e+02    5.65e-03    4.99e+03   2.90e+00   8.92e-01  4.69e+06        1    5.37e-03    3.83e-02\n",
      "   7  5.170705e+02    4.95e-03    1.08e+04   4.23e+00   6.03e-01  4.73e+06        1    5.41e-03    4.37e-02\n",
      "   8  5.170639e+02    6.51e-03    6.36e+03   3.25e+00   8.52e-01  7.28e+06        1    5.24e-03    4.90e-02\n",
      "   9  5.170608e+02    3.12e-03    6.91e+03   3.38e+00   7.01e-01  7.79e+06        1    5.20e-03    5.42e-02\n",
      "  10  5.170582e+02    2.58e-03    3.49e+03   2.40e+00   8.85e-01  1.43e+07        1    5.48e-03    5.97e-02\n",
      "  11  5.170573e+02    9.78e-04    3.19e+03   2.29e+00   7.77e-01  1.72e+07        1    5.28e-03    6.50e-02\n",
      "  12  5.170567e+02    5.21e-04    1.05e+03   1.31e+00   9.47e-01  5.16e+07        1    5.40e-03    7.04e-02\n",
      "  13  5.170566e+02    9.86e-05    5.15e+02   9.20e-01   9.35e-01  1.51e+08        1    5.51e-03    7.59e-02\n"
     ]
    },
    {
     "name": "stderr",
     "output_type": "stream",
     "text": [
      "I20240630 15:43:23.004145 140301693018112 misc.cc:205] \n",
      "Bundle adjustment report\n",
      "------------------------\n",
      "I20240630 15:43:23.004152 140301693018112 bundle_adjustment.cc:942] \n",
      "    Residuals : 8068\n",
      "   Parameters : 4622\n",
      "   Iterations : 99\n",
      "         Time : 0.535078 [s]\n",
      " Initial cost : 0.333652 [px]\n",
      "   Final cost : 0.250683 [px]\n",
      "  Termination : Convergence\n",
      "\n",
      "I20240630 15:43:23.004932 140301693018112 incremental_mapper.cc:175] => Completed observations: 18\n",
      "I20240630 15:43:23.005042 140301693018112 incremental_mapper.cc:178] => Merged observations: 0\n",
      "I20240630 15:43:23.005194 140301693018112 incremental_mapper.cc:160] => Filtered observations: 0\n",
      "I20240630 15:43:23.005196 140301693018112 incremental_mapper.cc:119] => Changed observations: 0.004462\n",
      "I20240630 15:43:23.005199 140301693018112 misc.cc:198] \n",
      "==============================================================================\n",
      "Global bundle adjustment\n",
      "==============================================================================\n",
      "I20240630 15:43:23.083860 140301693018112 misc.cc:205] \n",
      "Bundle adjustment report\n",
      "------------------------\n",
      "I20240630 15:43:23.083865 140301693018112 bundle_adjustment.cc:942] \n",
      "    Residuals : 8104\n",
      "   Parameters : 4622\n",
      "   Iterations : 14\n",
      "         Time : 0.0772491 [s]\n",
      " Initial cost : 0.26076 [px]\n",
      "   Final cost : 0.252592 [px]\n",
      "  Termination : Convergence\n",
      "\n",
      "I20240630 15:43:23.084555 140301693018112 incremental_mapper.cc:175] => Completed observations: 5\n",
      "I20240630 15:43:23.084656 140301693018112 incremental_mapper.cc:178] => Merged observations: 0\n",
      "I20240630 15:43:23.084803 140301693018112 incremental_mapper.cc:160] => Filtered observations: 0\n",
      "I20240630 15:43:23.084804 140301693018112 incremental_mapper.cc:119] => Changed observations: 0.001234\n",
      "I20240630 15:43:23.084806 140301693018112 misc.cc:198] \n",
      "==============================================================================\n",
      "Global bundle adjustment\n",
      "==============================================================================\n",
      "I20240630 15:43:23.146970 140301693018112 misc.cc:205] \n",
      "Bundle adjustment report\n",
      "------------------------\n",
      "I20240630 15:43:23.146975 140301693018112 bundle_adjustment.cc:942] \n",
      "    Residuals : 8114\n",
      "   Parameters : 4622\n",
      "   Iterations : 11\n",
      "         Time : 0.0608001 [s]\n",
      " Initial cost : 0.258877 [px]\n",
      "   Final cost : 0.253132 [px]\n",
      "  Termination : Convergence\n",
      "\n",
      "I20240630 15:43:23.147651 140301693018112 incremental_mapper.cc:175] => Completed observations: 1\n",
      "I20240630 15:43:23.147756 140301693018112 incremental_mapper.cc:178] => Merged observations: 0\n",
      "I20240630 15:43:23.147902 140301693018112 incremental_mapper.cc:160] => Filtered observations: 0\n",
      "I20240630 15:43:23.147904 140301693018112 incremental_mapper.cc:119] => Changed observations: 0.000246\n",
      "I20240630 15:43:23.147905 140301693018112 incremental_mapper.cc:167] => Filtered images: 0\n"
     ]
    },
    {
     "name": "stdout",
     "output_type": "stream",
     "text": [
      "iter      cost      cost_change  |gradient|   |step|    tr_ratio  tr_radius  ls_iter  iter_time  total_time\n",
      "   0  5.437797e+02    0.00e+00    1.71e+04   0.00e+00   0.00e+00  1.00e+04        0    4.09e-03    5.86e-03\n",
      "   1  5.199366e+02    2.38e+01    3.77e+01   0.00e+00   1.00e+00  3.00e+04        1    5.54e-03    1.14e-02\n",
      "   2  5.199195e+02    1.71e-02    1.50e+02   4.21e-01   9.98e-01  9.00e+04        1    5.23e-03    1.66e-02\n",
      "   3  5.199164e+02    3.10e-03    6.98e+01   2.58e-01   9.96e-01  2.70e+05        1    5.57e-03    2.22e-02\n",
      "   4  5.199160e+02    3.76e-04    3.12e+01   2.10e-01   9.97e-01  8.10e+05        1    5.29e-03    2.75e-02\n",
      "   5  5.199153e+02    6.85e-04    1.92e+02   5.62e-01   9.98e-01  2.43e+06        1    5.50e-03    3.30e-02\n",
      "   6  5.199138e+02    1.54e-03    1.26e+03   1.44e+00   9.70e-01  7.29e+06        1    5.23e-03    3.82e-02\n",
      "   7  5.199120e+02    1.76e-03    5.03e+03   2.87e+00   7.12e-01  7.89e+06        1    5.34e-03    4.36e-02\n",
      "   8  5.199104e+02    1.64e-03    2.44e+03   2.00e+00   9.07e-01  1.71e+07        1    5.33e-03    4.89e-02\n",
      "   9  5.199098e+02    6.28e-04    2.42e+03   1.99e+00   7.91e-01  2.13e+07        1    5.25e-03    5.41e-02\n",
      "  10  5.199095e+02    2.90e-04    6.06e+02   9.95e-01   9.65e-01  6.38e+07        1    5.27e-03    5.94e-02\n",
      "iter      cost      cost_change  |gradient|   |step|    tr_ratio  tr_radius  ls_iter  iter_time  total_time\n",
      "   0  5.900471e+02    0.00e+00    3.79e+03   0.00e+00   0.00e+00  1.00e+04        0    4.42e-03    6.33e-03\n",
      "   1  5.711853e+02    1.89e+01    3.59e+03   0.00e+00   9.99e-01  3.00e+04        1    5.72e-03    1.21e-02\n",
      "   2  5.683176e+02    2.87e+00    3.26e+03   2.39e+00   9.99e-01  9.00e+04        1    5.51e-03    1.76e-02\n"
     ]
    },
    {
     "name": "stderr",
     "output_type": "stream",
     "text": [
      "I20240630 15:43:23.245065 140301693018112 misc.cc:198] \n",
      "==============================================================================\n",
      "Registering image #4 (4)\n",
      "==============================================================================\n",
      "I20240630 15:43:23.245075 140301693018112 incremental_mapper.cc:495] => Image sees 95 / 376 points\n",
      "I20240630 15:43:23.248556 140301693018112 misc.cc:205] \n",
      "Pose refinement report\n",
      "----------------------\n",
      "I20240630 15:43:23.248567 140301693018112 bundle_adjustment.cc:942] \n",
      "    Residuals : 156\n",
      "   Parameters : 6\n",
      "   Iterations : 13\n",
      "         Time : 0.000901937 [s]\n",
      " Initial cost : 0.835589 [px]\n",
      "   Final cost : 0.819426 [px]\n",
      "  Termination : Convergence\n",
      "\n",
      "I20240630 15:43:23.248597 140301693018112 incremental_mapper.cc:40] => Continued observations: 78\n",
      "I20240630 15:43:23.248755 140301693018112 incremental_mapper.cc:43] => Added observations: 17\n",
      "I20240630 15:43:23.267418 140301693018112 misc.cc:205] \n",
      "Bundle adjustment report\n",
      "------------------------\n",
      "I20240630 15:43:23.267423 140301693018112 bundle_adjustment.cc:942] \n",
      "    Residuals : 2796\n",
      "   Parameters : 479\n",
      "   Iterations : 11\n",
      "         Time : 0.0176539 [s]\n",
      " Initial cost : 0.595987 [px]\n",
      "   Final cost : 0.356386 [px]\n",
      "  Termination : Convergence\n",
      "\n",
      "I20240630 15:43:23.268216 140301693018112 incremental_mapper.cc:78] => Merged observations: 0\n",
      "I20240630 15:43:23.268219 140301693018112 incremental_mapper.cc:79] => Completed observations: 1\n",
      "I20240630 15:43:23.268220 140301693018112 incremental_mapper.cc:81] => Filtered observations: 1\n",
      "I20240630 15:43:23.268221 140301693018112 incremental_mapper.cc:90] => Changed observations: 0.000722\n",
      "I20240630 15:43:23.268226 140301693018112 misc.cc:198] \n",
      "==============================================================================\n",
      "Retriangulation\n",
      "==============================================================================\n",
      "I20240630 15:43:23.268370 140301693018112 incremental_mapper.cc:175] => Completed observations: 0\n",
      "I20240630 15:43:23.268475 140301693018112 incremental_mapper.cc:178] => Merged observations: 0\n",
      "I20240630 15:43:23.268477 140301693018112 incremental_mapper.cc:105] => Retriangulated observations: 0\n",
      "I20240630 15:43:23.268478 140301693018112 misc.cc:198] \n",
      "==============================================================================\n",
      "Global bundle adjustment\n",
      "==============================================================================\n",
      "I20240630 15:43:23.361092 140301693018112 misc.cc:205] \n",
      "Bundle adjustment report\n",
      "------------------------\n",
      "I20240630 15:43:23.361098 140301693018112 bundle_adjustment.cc:942] \n",
      "    Residuals : 8306\n",
      "   Parameters : 4628\n",
      "   Iterations : 16\n",
      "         Time : 0.0911338 [s]\n",
      " Initial cost : 0.266531 [px]\n",
      "   Final cost : 0.259753 [px]\n",
      "  Termination : Convergence\n",
      "\n",
      "I20240630 15:43:23.361827 140301693018112 incremental_mapper.cc:175] => Completed observations: 1\n",
      "I20240630 15:43:23.361931 140301693018112 incremental_mapper.cc:178] => Merged observations: 0\n",
      "I20240630 15:43:23.362079 140301693018112 incremental_mapper.cc:160] => Filtered observations: 0\n",
      "I20240630 15:43:23.362081 140301693018112 incremental_mapper.cc:119] => Changed observations: 0.000241\n",
      "I20240630 15:43:23.362083 140301693018112 incremental_mapper.cc:167] => Filtered images: 0\n"
     ]
    },
    {
     "name": "stdout",
     "output_type": "stream",
     "text": [
      "   3  5.664226e+02    1.89e+00    3.13e+04   4.97e+00   9.73e-01  2.70e+05        1    5.35e-03    2.29e-02\n",
      "   4  5.651471e+02    1.28e+00    1.55e+05   1.39e+01   6.95e-01  2.87e+05        1    5.56e-03    2.85e-02\n",
      "   5  5.637227e+02    1.42e+00    1.10e+05   1.29e+01   8.42e-01  4.22e+05        1    5.72e-03    3.42e-02\n",
      "   6  5.628360e+02    8.87e-01    1.46e+05   1.52e+01   6.58e-01  4.36e+05        1    5.47e-03    3.97e-02\n",
      "   7  5.618814e+02    9.55e-01    9.78e+04   1.24e+01   8.23e-01  5.98e+05        1    5.52e-03    4.52e-02\n",
      "   8  5.613455e+02    5.36e-01    1.02e+05   1.26e+01   7.09e-01  6.45e+05        1    5.53e-03    5.07e-02\n",
      "   9  5.608909e+02    4.55e-01    6.38e+04   9.92e+00   8.41e-01  9.44e+05        1    5.55e-03    5.63e-02\n",
      "  10  5.606618e+02    2.29e-01    5.93e+04   9.54e+00   7.56e-01  1.09e+06        1    5.58e-03    6.19e-02\n",
      "  11  5.605071e+02    1.55e-01    3.13e+04   6.91e+00   8.83e-01  1.98e+06        1    5.42e-03    6.73e-02\n",
      "  12  5.604475e+02    5.96e-02    2.45e+04   6.09e+00   8.27e-01  2.75e+06        1    5.47e-03    7.28e-02\n",
      "  13  5.604230e+02    2.46e-02    7.86e+03   3.45e+00   9.50e-01  8.24e+06        1    5.69e-03    7.85e-02\n",
      "  14  5.604192e+02    3.77e-03    2.51e+03   1.95e+00   9.66e-01  2.47e+07        1    5.57e-03    8.40e-02\n",
      "  15  5.604190e+02    2.27e-04    1.16e+02   4.18e-01   1.00e+00  7.41e+07        1    5.63e-03    8.97e-02\n"
     ]
    },
    {
     "name": "stderr",
     "output_type": "stream",
     "text": [
      "I20240630 15:43:23.504575 140301693018112 timer.cc:91] Elapsed time: 0.035 [minutes]\n"
     ]
    }
   ],
   "source": [
    "mapper_cmd = (colmap_command + \" mapper \\\n",
    "    --database_path \" + args.source_path + \"/distorted/database.db \\\n",
    "    --image_path \"  + args.source_path + \"/input \\\n",
    "    --output_path \"  + args.source_path + \"/distorted/sparse \\\n",
    "    --Mapper.ba_global_function_tolerance=0.000001\")\n",
    "# Mapper is the main command to run the bundle adjustment\n",
    "# database, image paths same as above\n",
    "# output path is where the output will be stored\n",
    "# bundle adjustment global function tolerance\n",
    "# source_path tree structure\n",
    "# source_path\n",
    "#   |---input\n",
    "#   |---distorated\n",
    "#       |---database.db\n",
    "#       |---sparse\n",
    "#           |---0\n",
    "#           |---1 and so on. normally we need/get a single consolidated model\n",
    "exit_code = os.system(mapper_cmd)\n",
    "if exit_code != 0:\n",
    "    logging.error(f\"Mapper failed with code {exit_code}. Exiting.\")\n",
    "    exit(exit_code)"
   ]
  },
  {
   "cell_type": "markdown",
   "metadata": {},
   "source": [
    "## Image undistortion"
   ]
  },
  {
   "cell_type": "code",
   "execution_count": 49,
   "metadata": {},
   "outputs": [
    {
     "name": "stderr",
     "output_type": "stream",
     "text": [
      "I20240630 15:49:15.093394 140512756174848 misc.cc:198] \n",
      "==============================================================================\n",
      "Reading reconstruction\n",
      "==============================================================================\n",
      "I20240630 15:49:15.102104 140512756174848 image.cc:342] => Reconstruction with 4 images and 1535 points\n",
      "I20240630 15:49:15.114693 140509474521088 misc.cc:198] \n",
      "==============================================================================\n",
      "Image undistortion\n",
      "==============================================================================\n",
      "I20240630 15:49:15.120832 140509474521088 undistortion.cc:210] Undistorting image [1/4]\n",
      "I20240630 15:49:17.161541 140509474521088 undistortion.cc:210] Undistorting image [2/4]\n",
      "I20240630 15:49:17.161567 140509474521088 undistortion.cc:210] Undistorting image [3/4]\n",
      "I20240630 15:49:17.161568 140509474521088 undistortion.cc:210] Undistorting image [4/4]\n",
      "I20240630 15:49:17.161569 140509474521088 undistortion.cc:223] Writing reconstruction...\n",
      "I20240630 15:49:17.183969 140509474521088 undistortion.cc:228] Writing configuration...\n",
      "I20240630 15:49:17.186726 140509474521088 undistortion.cc:232] Writing scripts...\n",
      "I20240630 15:49:17.189157 140509474521088 timer.cc:91] Elapsed time: 0.035 [minutes]\n"
     ]
    }
   ],
   "source": [
    "img_undist_cmd = (colmap_command + \" image_undistorter \\\n",
    "    --image_path \" + args.source_path + \"/input \\\n",
    "    --input_path \" + args.source_path + \"/distorted/sparse/0 \\\n",
    "    --output_path \" + args.source_path + \"\\\n",
    "    --output_type COLMAP\")\n",
    "# image_path same as above. image folder name should be /input !!\n",
    "# input_path to the sparse point cloud model\n",
    "# new folder created for undistorated images in source_path/images\n",
    "# output_type COLMAP ???\n",
    "# now the source_path tree is\n",
    "# source_path\n",
    "#   |---input\n",
    "#   |---distorated\n",
    "#       |---database.db\n",
    "#       |---sparse\n",
    "#           |---0\n",
    "#           |---1 and so on. normally we need/get a single consolidated model\n",
    "#   |---images\n",
    "exit_code = os.system(img_undist_cmd)\n",
    "if exit_code != 0:\n",
    "    logging.error(f\"Mapper failed with code {exit_code}. Exiting.\")\n",
    "    exit(exit_code)"
   ]
  },
  {
   "cell_type": "markdown",
   "metadata": {},
   "source": [
    "## Move files from sparse to sparse/0"
   ]
  },
  {
   "cell_type": "code",
   "execution_count": 50,
   "metadata": {},
   "outputs": [],
   "source": [
    "files = os.listdir(args.source_path + \"/sparse\")\n",
    "os.makedirs(args.source_path + \"/sparse/0\", exist_ok=True)\n",
    "# Copy each file from the source directory to the destination directory\n",
    "for file in files:\n",
    "    if file == '0':\n",
    "        continue\n",
    "    source_file = os.path.join(args.source_path, \"sparse\", file)\n",
    "    destination_file = os.path.join(args.source_path, \"sparse\", \"0\", file)\n",
    "    shutil.move(source_file, destination_file)"
   ]
  },
  {
   "cell_type": "markdown",
   "metadata": {},
   "source": [
    "## Resize images"
   ]
  },
  {
   "cell_type": "code",
   "execution_count": 6,
   "metadata": {},
   "outputs": [
    {
     "name": "stdout",
     "output_type": "stream",
     "text": [
      "Copying and resizing...\n"
     ]
    }
   ],
   "source": [
    "if(args.resize):\n",
    "    # Only if resize is set True\n",
    "    print(\"Copying and resizing...\")\n",
    "\n",
    "    # Resize images.\n",
    "    os.makedirs(args.source_path + \"/images_2\", exist_ok=True)\n",
    "    os.makedirs(args.source_path + \"/images_4\", exist_ok=True)\n",
    "    os.makedirs(args.source_path + \"/images_8\", exist_ok=True)\n",
    "    # Get the list of files in the source directory\n",
    "    files = os.listdir(args.source_path + \"/images\")\n",
    "    # Shouldn't this be input instead of images???\n",
    "    # Copy each file from the source directory to the destination directory\n",
    "    for file in files:\n",
    "        source_file = os.path.join(args.source_path, \"images\", file)\n",
    "\n",
    "        destination_file = os.path.join(args.source_path, \"images_2\", file)\n",
    "        shutil.copy2(source_file, destination_file)\n",
    "        exit_code = os.system(magick_command + \" mogrify -resize 50% \" + destination_file)\n",
    "        if exit_code != 0:\n",
    "            logging.error(f\"50% resize failed with code {exit_code}. Exiting.\")\n",
    "            exit(exit_code)\n",
    "\n",
    "        destination_file = os.path.join(args.source_path, \"images_4\", file)\n",
    "        shutil.copy2(source_file, destination_file)\n",
    "        exit_code = os.system(magick_command + \" mogrify -resize 25% \" + destination_file)\n",
    "        if exit_code != 0:\n",
    "            logging.error(f\"25% resize failed with code {exit_code}. Exiting.\")\n",
    "            exit(exit_code)\n",
    "\n",
    "        destination_file = os.path.join(args.source_path, \"images_8\", file)\n",
    "        shutil.copy2(source_file, destination_file)\n",
    "        exit_code = os.system(magick_command + \" mogrify -resize 12.5% \" + destination_file)\n",
    "        if exit_code != 0:\n",
    "            logging.error(f\"12.5% resize failed with code {exit_code}. Exiting.\")\n",
    "            exit(exit_code)"
   ]
  }
 ],
 "metadata": {
  "kernelspec": {
   "display_name": "comp0197-pt",
   "language": "python",
   "name": "python3"
  },
  "language_info": {
   "codemirror_mode": {
    "name": "ipython",
    "version": 3
   },
   "file_extension": ".py",
   "mimetype": "text/x-python",
   "name": "python",
   "nbconvert_exporter": "python",
   "pygments_lexer": "ipython3",
   "version": "3.8.19"
  }
 },
 "nbformat": 4,
 "nbformat_minor": 2
}
