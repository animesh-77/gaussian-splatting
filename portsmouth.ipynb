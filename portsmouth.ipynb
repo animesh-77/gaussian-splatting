{
 "cells": [
  {
   "cell_type": "code",
   "execution_count": 1,
   "metadata": {},
   "outputs": [],
   "source": [
    "import pandas as pd\n",
    "import os, glob, re, shutil\n",
    "import PIL.ExifTags as ExifTags\n",
    "import PIL.Image as Image\n",
    "from tqdm import tqdm\n",
    "from datetime import datetime\n",
    "from typing import List, Tuple, Union\n",
    "import piexif"
   ]
  },
  {
   "cell_type": "markdown",
   "metadata": {},
   "source": [
    "# Naming conventions"
   ]
  },
  {
   "cell_type": "code",
   "execution_count": 4,
   "metadata": {},
   "outputs": [],
   "source": [
    "def get_exif(image_path: Union[str, ]) -> dict:\n",
    "    with Image.open(image_path) as image:\n",
    "        exif_data = image._getexif()\n",
    "        if not exif_data:\n",
    "            width, height = image.size\n",
    "            return {'ExifImageWidth': width, 'ExifImageHeight': height}\n",
    "\n",
    "        exif = {}\n",
    "        for tag, value in exif_data.items():\n",
    "            decoded = ExifTags.TAGS.get(tag, tag)\n",
    "            exif[decoded] = value\n",
    "        return exif\n",
    "\n",
    "def get_exif_gps(exif_info: dict):\n",
    "    gps_info = {}\n",
    "\n",
    "    for key in exif_info['GPSInfo'].keys():\n",
    "        decode = ExifTags.GPSTAGS.get(key,key)\n",
    "        gps_info[decode] = exif_info['GPSInfo'][key]#int.from_bytes(exif_info['GPSInfo'][key], byteorder='big')\n",
    "    return gps_info\n",
    "\n",
    "def get_exif_orientation(img_path: str):\n",
    "    \"\"\"\n",
    "    In EXIF at id 274 hexadecimal 0x0112, there is a tag called Orientation\n",
    "    1 = Horizontal (normal)\n",
    "    2 = Mirror horizontal\n",
    "    3 = Rotate 180\n",
    "    4 = Mirror vertical\n",
    "    5 = Mirror horizontal and rotate 270 CW\n",
    "    6 = Rotate 90 CW\n",
    "    7 = Mirror horizontal and rotate 90 CW\n",
    "    8 = Rotate 270 CW\n",
    "    \n",
    "\n",
    "    In PIL\n",
    "    FLIP_LEFT_RIGHT = 0\n",
    "    FLIP_TOP_BOTTOM = 1\n",
    "    ROTATE_180 = 3\n",
    "    ROTATE_270 = 4\n",
    "    ROTATE_90 = 2\n",
    "    TRANSPOSE = 5\n",
    "    TRANSVERSE = 6\n",
    "    \"\"\"\n",
    "    # iamge.transpose comaptible dictionary\n",
    "    # https://pillow.readthedocs.io/en/stable/reference/Image.html#PIL.Image.Image.transpose\n",
    "    transpose_map = {\n",
    "        1: None,                    # Horizontal (normal)\n",
    "        2: Image.FLIP_LEFT_RIGHT,   # Mirror horizontal\n",
    "        3: Image.ROTATE_180,        # Rotate 180\n",
    "        4: Image.FLIP_TOP_BOTTOM,   # Mirror vertical\n",
    "        5: Image.TRANSPOSE,         # Mirror horizontal and rotate 270 CW\n",
    "        6: Image.ROTATE_270,        # Rotate 90 CW value of 4\n",
    "        7: Image.TRANSVERSE,        # Mirror horizontal and rotate 90 CW\n",
    "        8: Image.ROTATE_90          # Rotate 270 CW value of 2\n",
    "    }\n",
    "    \n",
    "    with Image.open(img_path) as img:\n",
    "        try:\n",
    "            orientation = img._getexif().get(274, 0)\n",
    "            # print(f\"img_path: {img_path}, orientation: {orientation}\")\n",
    "        except AttributeError:\n",
    "            return None\n",
    "        \n",
    "    return transpose_map[orientation]\n"
   ]
  },
  {
   "cell_type": "code",
   "execution_count": 7,
   "metadata": {},
   "outputs": [
    {
     "name": "stdout",
     "output_type": "stream",
     "text": [
      "ExifImageWidth: 640\n",
      "ExifImageHeight: 360\n"
     ]
    }
   ],
   "source": [
    "exif_info = get_exif(r\"Y:/datasets/dynamic_3DGS/data/basketball/ims/0/000000.jpg\")\n",
    "# exif_info = get_exif(all_jpgs[0])\n",
    "if exif_info == {}:\n",
    "    print(\"No EXIF data found for image\")\n",
    "\n",
    "for tag, value in exif_info.items():\n",
    "\n",
    "    if tag == 'GPSInfo':\n",
    "        print(\"GPSInfo\")\n",
    "        gps_info = get_exif_gps(exif_info)\n",
    "        for tag, value in gps_info.items():\n",
    "            print(f\"{' ' * 5}{tag}: {value}\")\n",
    "\n",
    "    else:\n",
    "        print(f\"{tag}: {value}\")\n",
    "    "
   ]
  },
  {
   "cell_type": "code",
   "execution_count": 6,
   "metadata": {},
   "outputs": [
    {
     "name": "stdout",
     "output_type": "stream",
     "text": [
      "total images: 150\n",
      "parent directory: /cs/student/projects4/ml/2023/asrivast/datasets/dynamic_3DGS/data/basketball/ims/0\n",
      "parent directory: 000054.jpg\n"
     ]
    }
   ],
   "source": [
    "all_jpgs= glob.glob('/cs/student/projects4/ml/2023/asrivast/datasets/dynamic_3DGS/data/basketball/ims/0/*.jpg')\n",
    "print(f\"total images: {len(all_jpgs)}\")\n",
    "\n",
    "\n",
    "parent_dir= os.path.dirname(all_jpgs[0])\n",
    "print(f\"parent directory: {parent_dir}\")\n",
    "print(f\"parent directory: {os.path.basename(all_jpgs[0])}\")\n"
   ]
  },
  {
   "cell_type": "code",
   "execution_count": 7,
   "metadata": {},
   "outputs": [],
   "source": [
    "\n",
    "# make a dataframe with 3 columns\n",
    "camera_names_df= pd.DataFrame(columns=['tower', 'aim', 'name', 'focal_length', 'Width', 'Height', 'Camera_model', 'Orientation'])\n",
    "\n",
    "\n",
    "for i, jpg in enumerate(all_jpgs):\n",
    "    # camera_name= re.split('[-_]', os.path.basename(jpg))[2]\n",
    "    camera_name= []\n",
    "    exif_info = get_exif(jpg)\n",
    "    \n",
    "    # Create a dictionary with the new data\n",
    "    try:\n",
    "        camera_names_df.loc[len(camera_names_df)] = {\n",
    "            'tower': camera_name[0] if len(camera_name) > 0 else None,\n",
    "            'aim': camera_name[1] if len(camera_name) > 1 else None,\n",
    "            'name': camera_name[2] if len(camera_name) > 2 else None,\n",
    "            'focal_length': exif_info.get('FocalLength', None),\n",
    "            'Width': exif_info.get('ExifImageWidth', None),\n",
    "            'Height': exif_info.get('ExifImageHeight', None),\n",
    "            'Camera_model': exif_info.get('LensModel', None),\n",
    "            'Orientation': exif_info.get('Orientation', None)\n",
    "        }\n",
    "    except KeyError:\n",
    "        print(f\"KeyError: {i}, {jpg}\")\n",
    "        \n",
    "    # if camera_name == 'KF1':\n",
    "    #     print(i, exif_info['LensModel'])\n",
    "    \n",
    "# :NOTE change i to I\n",
    "camera_names_df['tower']= camera_names_df['tower'].str.upper()\n"
   ]
  },
  {
   "cell_type": "code",
   "execution_count": 8,
   "metadata": {},
   "outputs": [
    {
     "data": {
      "text/html": [
       "<div>\n",
       "<style scoped>\n",
       "    .dataframe tbody tr th:only-of-type {\n",
       "        vertical-align: middle;\n",
       "    }\n",
       "\n",
       "    .dataframe tbody tr th {\n",
       "        vertical-align: top;\n",
       "    }\n",
       "\n",
       "    .dataframe thead th {\n",
       "        text-align: right;\n",
       "    }\n",
       "</style>\n",
       "<table border=\"1\" class=\"dataframe\">\n",
       "  <thead>\n",
       "    <tr style=\"text-align: right;\">\n",
       "      <th></th>\n",
       "      <th>tower</th>\n",
       "      <th>aim</th>\n",
       "      <th>name</th>\n",
       "      <th>focal_length</th>\n",
       "      <th>Width</th>\n",
       "      <th>Height</th>\n",
       "      <th>Camera_model</th>\n",
       "      <th>Orientation</th>\n",
       "    </tr>\n",
       "  </thead>\n",
       "  <tbody>\n",
       "    <tr>\n",
       "      <th>0</th>\n",
       "      <td>None</td>\n",
       "      <td>None</td>\n",
       "      <td>None</td>\n",
       "      <td>None</td>\n",
       "      <td>640</td>\n",
       "      <td>360</td>\n",
       "      <td>None</td>\n",
       "      <td>None</td>\n",
       "    </tr>\n",
       "    <tr>\n",
       "      <th>1</th>\n",
       "      <td>None</td>\n",
       "      <td>None</td>\n",
       "      <td>None</td>\n",
       "      <td>None</td>\n",
       "      <td>640</td>\n",
       "      <td>360</td>\n",
       "      <td>None</td>\n",
       "      <td>None</td>\n",
       "    </tr>\n",
       "    <tr>\n",
       "      <th>2</th>\n",
       "      <td>None</td>\n",
       "      <td>None</td>\n",
       "      <td>None</td>\n",
       "      <td>None</td>\n",
       "      <td>640</td>\n",
       "      <td>360</td>\n",
       "      <td>None</td>\n",
       "      <td>None</td>\n",
       "    </tr>\n",
       "    <tr>\n",
       "      <th>3</th>\n",
       "      <td>None</td>\n",
       "      <td>None</td>\n",
       "      <td>None</td>\n",
       "      <td>None</td>\n",
       "      <td>640</td>\n",
       "      <td>360</td>\n",
       "      <td>None</td>\n",
       "      <td>None</td>\n",
       "    </tr>\n",
       "    <tr>\n",
       "      <th>4</th>\n",
       "      <td>None</td>\n",
       "      <td>None</td>\n",
       "      <td>None</td>\n",
       "      <td>None</td>\n",
       "      <td>640</td>\n",
       "      <td>360</td>\n",
       "      <td>None</td>\n",
       "      <td>None</td>\n",
       "    </tr>\n",
       "    <tr>\n",
       "      <th>...</th>\n",
       "      <td>...</td>\n",
       "      <td>...</td>\n",
       "      <td>...</td>\n",
       "      <td>...</td>\n",
       "      <td>...</td>\n",
       "      <td>...</td>\n",
       "      <td>...</td>\n",
       "      <td>...</td>\n",
       "    </tr>\n",
       "    <tr>\n",
       "      <th>145</th>\n",
       "      <td>None</td>\n",
       "      <td>None</td>\n",
       "      <td>None</td>\n",
       "      <td>None</td>\n",
       "      <td>640</td>\n",
       "      <td>360</td>\n",
       "      <td>None</td>\n",
       "      <td>None</td>\n",
       "    </tr>\n",
       "    <tr>\n",
       "      <th>146</th>\n",
       "      <td>None</td>\n",
       "      <td>None</td>\n",
       "      <td>None</td>\n",
       "      <td>None</td>\n",
       "      <td>640</td>\n",
       "      <td>360</td>\n",
       "      <td>None</td>\n",
       "      <td>None</td>\n",
       "    </tr>\n",
       "    <tr>\n",
       "      <th>147</th>\n",
       "      <td>None</td>\n",
       "      <td>None</td>\n",
       "      <td>None</td>\n",
       "      <td>None</td>\n",
       "      <td>640</td>\n",
       "      <td>360</td>\n",
       "      <td>None</td>\n",
       "      <td>None</td>\n",
       "    </tr>\n",
       "    <tr>\n",
       "      <th>148</th>\n",
       "      <td>None</td>\n",
       "      <td>None</td>\n",
       "      <td>None</td>\n",
       "      <td>None</td>\n",
       "      <td>640</td>\n",
       "      <td>360</td>\n",
       "      <td>None</td>\n",
       "      <td>None</td>\n",
       "    </tr>\n",
       "    <tr>\n",
       "      <th>149</th>\n",
       "      <td>None</td>\n",
       "      <td>None</td>\n",
       "      <td>None</td>\n",
       "      <td>None</td>\n",
       "      <td>640</td>\n",
       "      <td>360</td>\n",
       "      <td>None</td>\n",
       "      <td>None</td>\n",
       "    </tr>\n",
       "  </tbody>\n",
       "</table>\n",
       "<p>150 rows × 8 columns</p>\n",
       "</div>"
      ],
      "text/plain": [
       "    tower   aim  name focal_length  Width  Height Camera_model Orientation\n",
       "0    None  None  None         None    640     360         None        None\n",
       "1    None  None  None         None    640     360         None        None\n",
       "2    None  None  None         None    640     360         None        None\n",
       "3    None  None  None         None    640     360         None        None\n",
       "4    None  None  None         None    640     360         None        None\n",
       "..    ...   ...   ...          ...    ...     ...          ...         ...\n",
       "145  None  None  None         None    640     360         None        None\n",
       "146  None  None  None         None    640     360         None        None\n",
       "147  None  None  None         None    640     360         None        None\n",
       "148  None  None  None         None    640     360         None        None\n",
       "149  None  None  None         None    640     360         None        None\n",
       "\n",
       "[150 rows x 8 columns]"
      ]
     },
     "execution_count": 8,
     "metadata": {},
     "output_type": "execute_result"
    }
   ],
   "source": [
    "camera_names_df"
   ]
  },
  {
   "cell_type": "code",
   "execution_count": 14,
   "metadata": {},
   "outputs": [],
   "source": [
    "# camera_names_df.to_csv('camera_names.csv', index=False)"
   ]
  },
  {
   "cell_type": "code",
   "execution_count": null,
   "metadata": {},
   "outputs": [],
   "source": [
    "# group by width, height, focal_length, tower, aim\n",
    "\n",
    "group_df= pd.pivot_table(camera_names_df, index=['Width', 'Height', 'focal_length', 'tower', 'aim'], aggfunc='count')\n",
    "display(group_df)"
   ]
  },
  {
   "cell_type": "markdown",
   "metadata": {},
   "source": [
    "# Rotate each image and change exif tag"
   ]
  },
  {
   "cell_type": "code",
   "execution_count": 15,
   "metadata": {},
   "outputs": [
    {
     "name": "stderr",
     "output_type": "stream",
     "text": [
      "100%|██████████| 92/92 [00:25<00:00,  3.61it/s]\n"
     ]
    }
   ],
   "source": [
    "transpose_map = {\n",
    "        1: None,                    # Horizontal (normal)\n",
    "        2: Image.FLIP_LEFT_RIGHT,   # Mirror horizontal\n",
    "        3: Image.ROTATE_180,        # Rotate 180\n",
    "        4: Image.FLIP_TOP_BOTTOM,   # Mirror vertical\n",
    "        5: Image.TRANSPOSE,         # Mirror horizontal and rotate 270 CW\n",
    "        6: Image.ROTATE_270,        # Rotate 90 CW value of 4\n",
    "        7: Image.TRANSVERSE,        # Mirror horizontal and rotate 90 CW\n",
    "        8: Image.ROTATE_90          # Rotate 270 CW value of 2\n",
    "    }\n",
    "\n",
    "\n",
    "for jpg in tqdm(all_jpgs):\n",
    "    with Image.open(jpg) as img:\n",
    "        \n",
    "        # exif_info = get_exif(jpg)\n",
    "        # print(exif_info)\n",
    "        exif_dict = piexif.load(img.info['exif'])\n",
    "        # print(exif_dict)\n",
    "        # orientation = get_exif_orientation(jpg)\n",
    "        orientation= exif_dict.get('0th', {}).get(274, 1)\n",
    "        # print(orientation, img._getexif().get(274, 0))\n",
    "\n",
    "        if orientation != 1:\n",
    "            orientation= transpose_map[orientation]\n",
    "            exif_dict['0th'][274]= 1\n",
    "        #     # print(exif_dict)\n",
    "\n",
    "        #     with Image.open(jpg) as img:\n",
    "            img= img.transpose(orientation)\n",
    "\n",
    "                \n",
    "\n",
    "            exif_bytes = piexif.dump(exif_dict)\n",
    "            base, ext = os.path.splitext(jpg)\n",
    "            new_fname = f\"{base}{ext}\"\n",
    "            # print(new_fname)\n",
    "            img.save(new_fname, \"jpeg\", exif=exif_bytes)\n",
    "\n",
    "    #             # img.save(jpg)\n",
    "    #             # print(f\"orientation: {orientation}, img_path: {jpg}\")\n",
    "    #     # break\n"
   ]
  },
  {
   "cell_type": "markdown",
   "metadata": {},
   "source": [
    "# Semgnent each image based on the mask"
   ]
  },
  {
   "cell_type": "code",
   "execution_count": 26,
   "metadata": {},
   "outputs": [
    {
     "name": "stderr",
     "output_type": "stream",
     "text": [
      "50it [00:14,  3.37it/s]\n"
     ]
    }
   ],
   "source": [
    "all_masks= glob.glob('/cs/student/projects4/ml/2023/asrivast/datasets/handbag_19/visible_model/mask_upright/*.JPG.png')\n",
    "# all_jps is at /cs/student/projects4/ml/2023/asrivast/datasets/handbag_19/visible_model/segmented_upright/*.JPG\n",
    "for mask,jpg in tqdm(zip(all_masks, all_jpgs)):\n",
    "    with Image.open(jpg) as img:\n",
    "        with Image.open(mask) as mask_img:\n",
    "            # mask img based on mask_img\n",
    "            # the mask is inverted\n",
    "            mask_img= mask_img.convert('L')\n",
    "\n",
    "            # Invert the mask\n",
    "            # inverted_mask = ImageOps.invert(mask_img)\n",
    "\n",
    "            # Create a black background image\n",
    "            black_background = Image.new('RGB', img.size, (0, 0, 0))\n",
    "            \n",
    "            # Paste the original image onto the black background using the inverted mask\n",
    "            black_background.paste(img, (0, 0), mask_img)\n",
    "\n",
    "            # Save the modified image\n",
    "            base, ext = os.path.splitext(jpg)\n",
    "            new_fname = f\"{base}{ext}\"\n",
    "            black_background.save(new_fname)\n",
    "\n",
    "    # break\n",
    "\n",
    "    \n",
    "    # print(mask, new_fname)\n",
    "    # break"
   ]
  },
  {
   "cell_type": "markdown",
   "metadata": {},
   "source": [
    "# make custom match text file\n",
    "\n",
    "parameters to take\n",
    "* focal length\n",
    "* no. of towers on either side to consider"
   ]
  },
  {
   "cell_type": "code",
   "execution_count": 37,
   "metadata": {},
   "outputs": [
    {
     "name": "stdout",
     "output_type": "stream",
     "text": [
      "['A', 'B', 'K']\n",
      "['B', 'C', 'D', 'E', 'A', 'K', 'J']\n",
      "['H', 'i', 'J', 'G', 'F']\n"
     ]
    }
   ],
   "source": [
    "from typing import List\n",
    "def n_closest_towers(tower, n:int= 1,)-> List[str]:\n",
    "    \"\"\"\n",
    "    This function returns a list of n towers closest to the given tower in a clockwise direction.\n",
    "    The tower names are represented by capital letters from 'A' to '\n",
    "    \"\"\"\n",
    "    \n",
    "    clock_tower_ring= {\"A\":\"B\", \"B\":\"C\", \"C\":\"D\", \"D\":\"E\", \"E\":\"F\", \"F\":\"G\", \"G\":\"H\", \"H\":\"i\", \"i\":\"J\", \"J\":\"K\",\"K\":\"A\"}\n",
    "\n",
    "    next_tower= tower\n",
    "    tower_list= [next_tower]\n",
    "    for i in range(n):\n",
    "        next_tower= clock_tower_ring[next_tower]\n",
    "        tower_list.append(next_tower)\n",
    "    \n",
    "    anticlockwise_tower_ring = {value: key for key, value in clock_tower_ring.items()}\n",
    "    next_tower= tower\n",
    "    for i in range(n):\n",
    "        next_tower= anticlockwise_tower_ring[next_tower]\n",
    "        tower_list.append(next_tower)\n",
    "    \n",
    "    return tower_list\n",
    "\n",
    "# simple tests for n_closest_towers function \n",
    "print(n_closest_towers('A', 1))\n",
    "print(n_closest_towers('B', 3))\n",
    "print(n_closest_towers('H', 2))\n"
   ]
  },
  {
   "cell_type": "code",
   "execution_count": null,
   "metadata": {},
   "outputs": [],
   "source": [
    "a= re.split(\"[._-]\",os.path.basename(all_jpgs[0]))\n",
    "# b= a\n",
    "b= a[-4]+\"_\"+a[-3]+\"_\"+a[-2]+\".\"+a[-1]\n",
    "b"
   ]
  },
  {
   "cell_type": "code",
   "execution_count": 39,
   "metadata": {},
   "outputs": [
    {
     "name": "stdout",
     "output_type": "stream",
     "text": [
      "total images: 70 in scene: dress2_sunglasses_10\n",
      "C:/Users/student1/Desktop/Datasets/dress2_10/focal_length_2/50.0\\marie_PL-AB1_dress2_sunglasses_10.JPG\n"
     ]
    }
   ],
   "source": [
    "focal_length= str(float(50))\n",
    "num_towers= 1\n",
    "\n",
    "parent_dir= \"C:/Users/student1/Desktop/Datasets/dress2_10\"\n",
    "all_jpgs= glob.glob(f\"{parent_dir}/focal_length_2/{focal_length}/*.JPG\")\n",
    "scene_name= os.path.basename(all_jpgs[0])[13: -4]\n",
    "print(f\"total images: {len(all_jpgs)} in scene: {scene_name}\")\n",
    "print(all_jpgs[0])"
   ]
  },
  {
   "cell_type": "code",
   "execution_count": 41,
   "metadata": {},
   "outputs": [
    {
     "name": "stdout",
     "output_type": "stream",
     "text": [
      "total images: 7\n"
     ]
    },
    {
     "data": {
      "text/plain": [
       "['C:/Users/student1/Desktop/Datasets/dress2_10/focal_length_2/50.0\\\\marie_PL-AB1_dress2_sunglasses_10.JPG',\n",
       " 'C:/Users/student1/Desktop/Datasets/dress2_10/focal_length_2/50.0\\\\marie_PL-AB2_dress2_sunglasses_10.JPG',\n",
       " 'C:/Users/student1/Desktop/Datasets/dress2_10/focal_length_2/50.0\\\\marie_PL-AB3_dress2_sunglasses_10.JPG',\n",
       " 'C:/Users/student1/Desktop/Datasets/dress2_10/focal_length_2/50.0\\\\marie_PL-AB4_dress2_sunglasses_10.JPG',\n",
       " 'C:/Users/student1/Desktop/Datasets/dress2_10/focal_length_2/50.0\\\\marie_PL-AB5_dress2_sunglasses_10.JPG',\n",
       " 'C:/Users/student1/Desktop/Datasets/dress2_10/focal_length_2/50.0\\\\marie_PL-AB7_dress2_sunglasses_10.JPG',\n",
       " 'C:/Users/student1/Desktop/Datasets/dress2_10/focal_length_2/50.0\\\\marie_PL-ABM_dress2_sunglasses_10.JPG']"
      ]
     },
     "execution_count": 41,
     "metadata": {},
     "output_type": "execute_result"
    }
   ],
   "source": [
    "all_jpgs= glob.glob(f\"{parent_dir}/focal_length_2/{focal_length}/marie_*-A*_{scene_name}.JPG\")\n",
    "print(f\"total images: {len(all_jpgs)}\")\n",
    "all_jpgs"
   ]
  },
  {
   "cell_type": "code",
   "execution_count": 42,
   "metadata": {},
   "outputs": [
    {
     "name": "stdout",
     "output_type": "stream",
     "text": [
      "Done writing to C:/Users/student1/Desktop/Datasets/dress2_10/COLMAP_models/focal_length_2/50.0/tower_1_clock.txt\n"
     ]
    }
   ],
   "source": [
    "os.makedirs(f\"{parent_dir}/COLMAP_models/focal_length_2/{focal_length}\", exist_ok=True)\n",
    "txt_path= f\"{parent_dir}/COLMAP_models/focal_length_2/{focal_length}/tower_{num_towers}_clock.txt\"\n",
    "\n",
    "all_jpgs= glob.glob(f\"{parent_dir}/focal_length_2/{focal_length}/*.JPG\")\n",
    "# get all jpgs with the same focal length\n",
    "\n",
    "with open(txt_path, 'w') as f:\n",
    "    for i, jpg in enumerate(all_jpgs):\n",
    "        camera_name= re.split('[-_]', os.path.basename(jpg))[2]\n",
    "        tower= camera_name[0]\n",
    "        n_closest_towers_list= n_closest_towers(tower, num_towers)\n",
    "        for tower in n_closest_towers_list:\n",
    "            # list of all jpgs with structure like this\n",
    "            nearest_tower_jpgs= glob.glob(f\"{parent_dir}/focal_length_2/{focal_length}/marie_*-{tower}*_{scene_name}.JPG\")\n",
    "            for near_tower_jpg in nearest_tower_jpgs:\n",
    "                f.write(f\"{os.path.basename(jpg)} {os.path.basename(near_tower_jpg)}\\n\")\n",
    "\n",
    "# print done\n",
    "print(f\"Done writing to {txt_path}\")"
   ]
  },
  {
   "cell_type": "code",
   "execution_count": 7,
   "metadata": {},
   "outputs": [
    {
     "name": "stdout",
     "output_type": "stream",
     "text": [
      "total images: 50\n"
     ]
    },
    {
     "name": "stderr",
     "output_type": "stream",
     "text": [
      "50it [00:25,  1.95it/s]\n"
     ]
    }
   ],
   "source": [
    "\n",
    "# open png image\n",
    "from PIL import Image\n",
    "\n",
    "\n",
    "all_pngs= glob.glob('/cs/student/projects4/ml/2023/asrivast/datasets/handbag_19/visible_model/segmented/*.png')\n",
    "all_jpgs= glob.glob('/cs/student/projects4/ml/2023/asrivast/datasets/handbag_19/visible_model/images/*.JPG')\n",
    "\n",
    "print(f\"total images: {len(all_pngs)}\")\n",
    "parent_dir= os.path.dirname(os.path.dirname(all_pngs[0]))\n",
    "mask_path= os.path.join(parent_dir, 'mask_unrotated')\n",
    "os.makedirs(mask_path, exist_ok=True)\n",
    "\n",
    "for jpg, png in tqdm(zip(all_jpgs, all_pngs)):\n",
    "    \n",
    "    with Image.open(png) as img:\n",
    "        img_name= os.path.basename(png).replace('png', 'JPG.png')\n",
    "        np_img= np.asarray(img)\n",
    "\n",
    "        alpha_channel= np_img[:,:,3]\n",
    "        # Create a mask where transparent pixels are black (0) and non-transparent pixels are white (255)\n",
    "        mask = np.where(alpha_channel > 0, 255, 0).astype(np.uint8)\n",
    "\n",
    "        # Convert the mask to an image\n",
    "        mask_img = Image.fromarray(mask, mode='L') # mode L is for 8-bit pixels, black and white\n",
    "        rotation= get_exif_orientation(jpg)\n",
    "        # print(type(rotation))\n",
    "        # rotate the image based on the orientation\n",
    "        # mask_img= mask_img.transpose(rotation)\n",
    "        # print(f\"{img.size} {mask_img.size}\")\n",
    "\n",
    "        mask_img.save(f\"{mask_path}/{img_name}\")\n",
    "        # break"
   ]
  },
  {
   "cell_type": "code",
   "execution_count": 21,
   "metadata": {},
   "outputs": [
    {
     "name": "stdout",
     "output_type": "stream",
     "text": [
      "total images: 139\n"
     ]
    },
    {
     "name": "stderr",
     "output_type": "stream",
     "text": [
      "  0%|          | 0/139 [00:00<?, ?it/s]"
     ]
    },
    {
     "name": "stderr",
     "output_type": "stream",
     "text": [
      "100%|██████████| 139/139 [00:03<00:00, 34.99it/s]\n"
     ]
    }
   ],
   "source": [
    "from tqdm import tqdm\n",
    "\n",
    "# get all jpg in folder and sub folders at this directory\n",
    "\n",
    "parent_dir= \"C:/Users/student1/Desktop/Datasets/dress2_10/focal_length\"\n",
    "all_jpgs= glob.glob(f\"{parent_dir}/**/*.JPG\", recursive=True)\n",
    "print(f\"total images: {len(all_jpgs)}\")\n",
    "\n",
    "# nowmoveall imagesto this folder andmake it if it does not exist\n",
    "new_folder= \"C:/Users/student1/Desktop/Datasets/dress2_10/visible_model\"\n",
    "os.makedirs(new_folder, exist_ok=True)\n",
    "for jpg in tqdm(all_jpgs):\n",
    "    shutil.copy2(jpg, new_folder)\n",
    "    # break"
   ]
  },
  {
   "cell_type": "code",
   "execution_count": 8,
   "metadata": {},
   "outputs": [
    {
     "name": "stdout",
     "output_type": "stream",
     "text": [
      "total images: 50\n"
     ]
    },
    {
     "name": "stderr",
     "output_type": "stream",
     "text": [
      "100%|██████████| 50/50 [00:25<00:00,  1.98it/s]\n"
     ]
    }
   ],
   "source": [
    "parent_dir= \"C:/Users/student1/Desktop/Datasets/handbag_19/visible_model\"\n",
    "all_jpgs= glob.glob(f\"{parent_dir}/*.JPG\", recursive=True)\n",
    "print(f\"total images: {len(all_jpgs)}\")\n",
    "\n",
    "# move to new folder and resize\n",
    "dest_folder= \"C:/Users/student1/Desktop/Datasets/handbag_19/visible_model_4\"\n",
    "os.makedirs(dest_folder, exist_ok=True)\n",
    "for jpg in tqdm(all_jpgs):\n",
    "    dest_file= os.path.join(dest_folder, os.path.basename(jpg))\n",
    "# #     # dest_file= jpg\n",
    "    shutil.copy2(jpg, dest_file)\n",
    "    exit_code = os.system(\"magick\" + f\" mogrify -resize 25% \" + dest_file)\n",
    "#     # print(dest_file, exit_code)\n",
    "    # break\n"
   ]
  },
  {
   "cell_type": "code",
   "execution_count": 6,
   "metadata": {},
   "outputs": [
    {
     "data": {
      "text/plain": [
       "1.3333333333333333"
      ]
     },
     "execution_count": 6,
     "metadata": {},
     "output_type": "execute_result"
    }
   ],
   "source": [
    "100/75"
   ]
  },
  {
   "cell_type": "code",
   "execution_count": 33,
   "metadata": {},
   "outputs": [
    {
     "data": {
      "text/plain": [
       "'C:/Users/student1/Desktop/Datasets/dress2_10/focal_length_2\\\\122.0\\\\marie_PL-GH2_dress2_sunglasses_10.JPG'"
      ]
     },
     "execution_count": 33,
     "metadata": {},
     "output_type": "execute_result"
    }
   ],
   "source": [
    "all_jpgs[0]"
   ]
  },
  {
   "cell_type": "markdown",
   "metadata": {},
   "source": [
    "# Ship sparse folder and images to drive"
   ]
  },
  {
   "cell_type": "code",
   "execution_count": 76,
   "metadata": {},
   "outputs": [
    {
     "name": "stdout",
     "output_type": "stream",
     "text": [
      "total images: 35\n"
     ]
    },
    {
     "name": "stderr",
     "output_type": "stream",
     "text": [
      "  0%|          | 0/35 [00:00<?, ?it/s]"
     ]
    },
    {
     "name": "stderr",
     "output_type": "stream",
     "text": [
      "100%|██████████| 35/35 [00:01<00:00, 32.31it/s]\n"
     ]
    }
   ],
   "source": [
    "parent_dir= \"C:/Users/student1/Desktop/Datasets/dress2_10\"\n",
    "scene_name= os.path.basename(parent_dir)\n",
    "experiment_name= \"tower_ABCD_2\"\n",
    "\n",
    "\n",
    "dest_folder= \"Y:\\datasets\"\n",
    "dest_folder= os.path.join(dest_folder, scene_name, experiment_name)\n",
    "os.makedirs(dest_folder, exist_ok=True)\n",
    "os.makedirs(os.path.join(dest_folder, \"images\"), exist_ok=True)\n",
    "\n",
    "all_jpgs= glob.glob(f\"{parent_dir}/{experiment_name}/*.JPG\", recursive=True)\n",
    "print(f\"total images: {len(all_jpgs)}\")\n",
    "for jpg in tqdm(all_jpgs):\n",
    "    dest_file= os.path.join(dest_folder,\"images\", os.path.basename(jpg))\n",
    "    shutil.copy2(jpg, dest_file)\n",
    "    # break\n",
    "\n",
    "# move sparse model folder\n",
    "spare_folder_src= os.path.join(parent_dir, \"COLMAP_models\", experiment_name, \"sparse\")\n",
    "# check if its there\n",
    "if os.path.exists(spare_folder_src):\n",
    "    spare_folder_dest= os.path.join(dest_folder, \"sparse\")\n",
    "    # if os.path.exists(spare_folder_dest):\n",
    "    #     shutil.rmtree(spare_folder_dest)\n",
    "    try:\n",
    "        shutil.copytree(spare_folder_src, spare_folder_dest)\n",
    "    except FileExistsError:\n",
    "        print(f\"{spare_folder_dest} already exists\")\n",
    "else:\n",
    "    print(f\"{spare_folder_src} does not exist\")"
   ]
  },
  {
   "cell_type": "markdown",
   "metadata": {},
   "source": [
    "# Now move the results folder back"
   ]
  },
  {
   "cell_type": "code",
   "execution_count": 70,
   "metadata": {},
   "outputs": [
    {
     "name": "stdout",
     "output_type": "stream",
     "text": [
      "Y:\\datasets\\dress3_15\\visible_model_2\\results exists\n"
     ]
    }
   ],
   "source": [
    "results_folder_src= os.path.join(dest_folder, \"results\")\n",
    "\n",
    "results_folder_dest= os.path.join(parent_dir, \"3DGS_models\", experiment_name)\n",
    "\n",
    "if os.path.exists(results_folder_src):\n",
    "    print(f\"{results_folder_src} exists\")\n",
    "    try:\n",
    "        shutil.copytree(results_folder_src, results_folder_dest)\n",
    "    except FileExistsError:\n",
    "        print(f\"{results_folder_dest} already exists\")"
   ]
  },
  {
   "cell_type": "code",
   "execution_count": 69,
   "metadata": {},
   "outputs": [
    {
     "data": {
      "text/plain": [
       "'C:/Users/student1/Desktop/Datasets/dress3_15\\\\dress3_15\\\\3DGS_models\\\\visible_model_2'"
      ]
     },
     "execution_count": 69,
     "metadata": {},
     "output_type": "execute_result"
    }
   ],
   "source": [
    "results_folder_dest"
   ]
  },
  {
   "cell_type": "markdown",
   "metadata": {},
   "source": [
    "# Video dataset"
   ]
  },
  {
   "cell_type": "code",
   "execution_count": 2,
   "metadata": {},
   "outputs": [
    {
     "name": "stdout",
     "output_type": "stream",
     "text": [
      "total images: 35520 per camera 1110.0\n"
     ]
    }
   ],
   "source": [
    "all_jpgs= glob.glob('Y:\\datasets\\portsmouth_video\\cameras\\**\\*.JPG')\n",
    "print(f\"total images: {len(all_jpgs)} per camera {len(all_jpgs)/32}\")"
   ]
  },
  {
   "cell_type": "code",
   "execution_count": 32,
   "metadata": {},
   "outputs": [],
   "source": [
    "cropped= {}"
   ]
  },
  {
   "cell_type": "code",
   "execution_count": 42,
   "metadata": {},
   "outputs": [],
   "source": [
    "img.close()"
   ]
  },
  {
   "cell_type": "code",
   "execution_count": 3,
   "metadata": {},
   "outputs": [
    {
     "name": "stderr",
     "output_type": "stream",
     "text": [
      "100%|██████████| 35520/35520 [03:59<00:00, 148.16it/s]\n"
     ]
    }
   ],
   "source": [
    "new_folder= os.path.join(\"Y:\\datasets\\portsmouth_video\", \"ims\")\n",
    "# make new folder if it does not exist\n",
    "os.makedirs(new_folder, exist_ok=True)\n",
    "for jpg in tqdm(all_jpgs):\n",
    "    camera_num= int(re.split('[-_.]', os.path.basename(jpg))[1])\n",
    "    frame_num= re.split('[-_.]', os.path.basename(jpg))[2]\n",
    "    \n",
    "    if int(frame_num) < 200:\n",
    "        dest_folder= os.path.join(new_folder, f\"{camera_num}\")\n",
    "        os.makedirs(dest_folder, exist_ok=True)\n",
    "        dest_file= os.path.join(dest_folder, f\"{frame_num}.JPG\")\n",
    "        shutil.copy2(jpg, dest_file)\n",
    "        # crop the bottom 2 pixels\n",
    "\n",
    "        with Image.open(dest_file) as img:\n",
    "            width, height = img.size\n",
    "            \n",
    "            cropped_img= img.crop((0, 0, width, height-30))\n",
    "            cropped_img.save(dest_file)\n",
    "        # break\n",
    "    # move to a foler camera_num/frame_num"
   ]
  }
 ],
 "metadata": {
  "kernelspec": {
   "display_name": "gaussian_splatting",
   "language": "python",
   "name": "python3"
  },
  "language_info": {
   "codemirror_mode": {
    "name": "ipython",
    "version": 3
   },
   "file_extension": ".py",
   "mimetype": "text/x-python",
   "name": "python",
   "nbconvert_exporter": "python",
   "pygments_lexer": "ipython3",
   "version": "3.8.19"
  }
 },
 "nbformat": 4,
 "nbformat_minor": 2
}
